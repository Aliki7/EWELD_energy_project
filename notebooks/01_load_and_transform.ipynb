{
 "cells": [
  {
   "cell_type": "code",
   "execution_count": 52,
   "id": "d2b15663",
   "metadata": {},
   "outputs": [],
   "source": [
    "import pandas as pd\n",
    "import os\n",
    "\n",
    "filepath = 'C:/Users/dmarc/Desktop/Energy_project/data/EWELD_raw/Electricity Consumption/'\n",
    "sections = os.listdir(filepath)\n"
   ]
  },
  {
   "cell_type": "markdown",
   "id": "37efac0d",
   "metadata": {},
   "source": [
    "## STEP 1 Energy consumption all users consolidation\n",
    "combined_df"
   ]
  },
  {
   "cell_type": "code",
   "execution_count": 53,
   "id": "bf1c2240",
   "metadata": {},
   "outputs": [
    {
     "name": "stdout",
     "output_type": "stream",
     "text": [
      "                  Time    Value User  \\\n",
      "0  2016-07-12 10:30:00  20.3325   U1   \n",
      "1  2016-07-12 10:45:00  16.8611   U1   \n",
      "2  2016-07-12 11:00:00  16.2412   U1   \n",
      "3  2016-07-12 11:15:00  18.8448   U1   \n",
      "4  2016-07-12 11:30:00  17.3570   U1   \n",
      "\n",
      "                                            Division Section  \n",
      "0  A01 Crop and animal production, hunting and re...       A  \n",
      "1  A01 Crop and animal production, hunting and re...       A  \n",
      "2  A01 Crop and animal production, hunting and re...       A  \n",
      "3  A01 Crop and animal production, hunting and re...       A  \n",
      "4  A01 Crop and animal production, hunting and re...       A  \n"
     ]
    }
   ],
   "source": [
    "dataframes = []\n",
    "\n",
    "for section in sections:\n",
    "    section_path = os.path.join(filepath, section)\n",
    "    if os.path.isdir(section_path):\n",
    "        divisions = os.listdir(section_path)\n",
    "        for division in divisions:\n",
    "            division_path = os.path.join(section_path, division)\n",
    "            if os.path.isdir(division_path):\n",
    "                files = os.listdir(division_path)\n",
    "                csv_files = [f for f in files if f.endswith('.csv')]\n",
    "                for csv_file in csv_files:\n",
    "                    file_path = os.path.join(division_path, csv_file)\n",
    "                    df = pd.read_csv(file_path)\n",
    "                    df['User'] = os.path.splitext(csv_file)[0]      # e.g., 'U1'\n",
    "                    df['Division'] = division                       # e.g., 'Division_01'\n",
    "                    df['Section'] = section                         # e.g., 'Section_A'\n",
    "                    dataframes.append(df)\n",
    "\n",
    "# Combine all into one DataFrame\n",
    "combined_df = pd.concat(dataframes, ignore_index=True)\n",
    "print(combined_df.head())"
   ]
  },
  {
   "cell_type": "code",
   "execution_count": 54,
   "id": "2ca38267",
   "metadata": {},
   "outputs": [
    {
     "data": {
      "text/plain": [
       "Index(['Time', 'Value', 'User', 'Division', 'Section'], dtype='object')"
      ]
     },
     "execution_count": 54,
     "metadata": {},
     "output_type": "execute_result"
    }
   ],
   "source": [
    "combined_df.columns"
   ]
  },
  {
   "cell_type": "code",
   "execution_count": 55,
   "id": "d0f122e8",
   "metadata": {},
   "outputs": [
    {
     "name": "stdout",
     "output_type": "stream",
     "text": [
      "                  Time    Value User Section Division Code  \\\n",
      "0  2016-07-12 10:30:00  20.3325   U1       A            01   \n",
      "1  2016-07-12 10:45:00  16.8611   U1       A            01   \n",
      "2  2016-07-12 11:00:00  16.2412   U1       A            01   \n",
      "3  2016-07-12 11:15:00  18.8448   U1       A            01   \n",
      "4  2016-07-12 11:30:00  17.3570   U1       A            01   \n",
      "\n",
      "                                       Division Name  \n",
      "0  Crop and animal production, hunting and relate...  \n",
      "1  Crop and animal production, hunting and relate...  \n",
      "2  Crop and animal production, hunting and relate...  \n",
      "3  Crop and animal production, hunting and relate...  \n",
      "4  Crop and animal production, hunting and relate...  \n"
     ]
    }
   ],
   "source": [
    "# Extract numeric part from 'Division' as 'Division Code'\n",
    "combined_df['Division Code'] = combined_df['Division'].str.extract(r'(\\d+)')\n",
    "\n",
    "# Extract the text part after the code as 'Division Name'\n",
    "combined_df['Division Name'] = combined_df['Division'].str.replace(r'^[A-Z]?(\\d+)\\s*', '', regex=True)\n",
    "\n",
    "# Replace column name 'Division' with 'Division Code'\n",
    "combined_df['Division'] = combined_df['Division Code']\n",
    "\n",
    "# Drop 'Division Code' column \n",
    "combined_df.drop(columns=['Division'], inplace=True)\n",
    "print(combined_df.head())"
   ]
  },
  {
   "cell_type": "code",
   "execution_count": null,
   "id": "2a6cf4a0",
   "metadata": {},
   "outputs": [],
   "source": [
    "# Rename the column \n",
    "combined_df = combined_df.rename(columns={'Value': 'Energy_cons [kWh]'})\n"
   ]
  },
  {
   "cell_type": "code",
   "execution_count": 58,
   "id": "b3c3d1dd",
   "metadata": {},
   "outputs": [
    {
     "name": "stdout",
     "output_type": "stream",
     "text": [
      "Number of rows combined_df: 55277891\n"
     ]
    }
   ],
   "source": [
    "num_rows_combined_df = len(combined_df)\n",
    "print(f\"Number of rows combined_df: {num_rows_combined_df}\")"
   ]
  },
  {
   "cell_type": "markdown",
   "id": "3adbdcaf",
   "metadata": {},
   "source": [
    "## STEP 2 Creation user data set for Section C \"Manufacturing\"\n",
    "combined_C_df"
   ]
  },
  {
   "cell_type": "code",
   "execution_count": 57,
   "id": "df1fc2c6",
   "metadata": {},
   "outputs": [
    {
     "data": {
      "application/vnd.microsoft.datawrangler.viewer.v0+json": {
       "columns": [
        {
         "name": "index",
         "rawType": "int64",
         "type": "integer"
        },
        {
         "name": "Time",
         "rawType": "object",
         "type": "string"
        },
        {
         "name": "Energy_cons [kWh]",
         "rawType": "float64",
         "type": "float"
        },
        {
         "name": "User",
         "rawType": "object",
         "type": "string"
        },
        {
         "name": "Section",
         "rawType": "object",
         "type": "string"
        },
        {
         "name": "Division Code",
         "rawType": "object",
         "type": "string"
        },
        {
         "name": "Division Name",
         "rawType": "object",
         "type": "string"
        }
       ],
       "ref": "6673339d-486b-4ae1-90f3-da93fc295e0a",
       "rows": [
        [
         "1536781",
         "2017-06-04 00:15:00",
         "1.8156",
         "U11",
         "C",
         "10",
         "Manufacture of food products"
        ],
        [
         "1536782",
         "2017-06-04 00:30:00",
         "1.8156",
         "U11",
         "C",
         "10",
         "Manufacture of food products"
        ],
        [
         "1536783",
         "2017-06-04 00:45:00",
         "1.8156",
         "U11",
         "C",
         "10",
         "Manufacture of food products"
        ],
        [
         "1536784",
         "2017-06-04 01:00:00",
         "1.8156",
         "U11",
         "C",
         "10",
         "Manufacture of food products"
        ],
        [
         "1536785",
         "2017-06-04 01:15:00",
         "2.514",
         "U11",
         "C",
         "10",
         "Manufacture of food products"
        ],
        [
         "1536786",
         "2017-06-04 01:30:00",
         "3.771",
         "U11",
         "C",
         "10",
         "Manufacture of food products"
        ],
        [
         "1536787",
         "2017-06-04 01:45:00",
         "1.5363",
         "U11",
         "C",
         "10",
         "Manufacture of food products"
        ],
        [
         "1536788",
         "2017-06-04 02:00:00",
         "1.5363",
         "U11",
         "C",
         "10",
         "Manufacture of food products"
        ],
        [
         "1536789",
         "2017-06-04 02:15:00",
         "1.5363",
         "U11",
         "C",
         "10",
         "Manufacture of food products"
        ],
        [
         "1536790",
         "2017-06-04 02:30:00",
         "1.5363",
         "U11",
         "C",
         "10",
         "Manufacture of food products"
        ],
        [
         "1536791",
         "2017-06-04 02:45:00",
         "1.3966",
         "U11",
         "C",
         "10",
         "Manufacture of food products"
        ],
        [
         "1536792",
         "2017-06-04 03:00:00",
         "3.771",
         "U11",
         "C",
         "10",
         "Manufacture of food products"
        ],
        [
         "1536793",
         "2017-06-04 03:15:00",
         "2.2346",
         "U11",
         "C",
         "10",
         "Manufacture of food products"
        ],
        [
         "1536794",
         "2017-06-04 03:30:00",
         "1.5363",
         "U11",
         "C",
         "10",
         "Manufacture of food products"
        ],
        [
         "1536795",
         "2017-06-04 03:45:00",
         "1.5363",
         "U11",
         "C",
         "10",
         "Manufacture of food products"
        ],
        [
         "1536796",
         "2017-06-04 04:00:00",
         "1.5363",
         "U11",
         "C",
         "10",
         "Manufacture of food products"
        ],
        [
         "1536797",
         "2017-06-04 04:15:00",
         "1.3966",
         "U11",
         "C",
         "10",
         "Manufacture of food products"
        ],
        [
         "1536798",
         "2017-06-04 04:30:00",
         "1.676",
         "U11",
         "C",
         "10",
         "Manufacture of food products"
        ],
        [
         "1536799",
         "2017-06-04 04:45:00",
         "4.3296",
         "U11",
         "C",
         "10",
         "Manufacture of food products"
        ],
        [
         "1536800",
         "2017-06-04 05:00:00",
         "1.5363",
         "U11",
         "C",
         "10",
         "Manufacture of food products"
        ],
        [
         "1536801",
         "2017-06-04 05:15:00",
         "1.5363",
         "U11",
         "C",
         "10",
         "Manufacture of food products"
        ],
        [
         "1536802",
         "2017-06-04 05:30:00",
         "1.5363",
         "U11",
         "C",
         "10",
         "Manufacture of food products"
        ],
        [
         "1536803",
         "2017-06-04 05:45:00",
         "1.5363",
         "U11",
         "C",
         "10",
         "Manufacture of food products"
        ],
        [
         "1536804",
         "2017-06-04 06:00:00",
         "1.5363",
         "U11",
         "C",
         "10",
         "Manufacture of food products"
        ],
        [
         "1536805",
         "2017-06-04 06:15:00",
         "2.6536",
         "U11",
         "C",
         "10",
         "Manufacture of food products"
        ],
        [
         "1536806",
         "2017-06-04 06:30:00",
         "3.2123",
         "U11",
         "C",
         "10",
         "Manufacture of food products"
        ],
        [
         "1536807",
         "2017-06-04 06:45:00",
         "1.5363",
         "U11",
         "C",
         "10",
         "Manufacture of food products"
        ],
        [
         "1536808",
         "2017-06-04 07:00:00",
         "1.676",
         "U11",
         "C",
         "10",
         "Manufacture of food products"
        ],
        [
         "1536809",
         "2017-06-04 07:15:00",
         "1.3966",
         "U11",
         "C",
         "10",
         "Manufacture of food products"
        ],
        [
         "1536810",
         "2017-06-04 07:30:00",
         "2.095",
         "U11",
         "C",
         "10",
         "Manufacture of food products"
        ],
        [
         "1536811",
         "2017-06-04 07:45:00",
         "2.3743",
         "U11",
         "C",
         "10",
         "Manufacture of food products"
        ],
        [
         "1536812",
         "2017-06-04 08:00:00",
         "5.1676",
         "U11",
         "C",
         "10",
         "Manufacture of food products"
        ],
        [
         "1536813",
         "2017-06-04 08:15:00",
         "1.676",
         "U11",
         "C",
         "10",
         "Manufacture of food products"
        ],
        [
         "1536814",
         "2017-06-04 08:30:00",
         "1.3966",
         "U11",
         "C",
         "10",
         "Manufacture of food products"
        ],
        [
         "1536815",
         "2017-06-04 08:45:00",
         "1.3966",
         "U11",
         "C",
         "10",
         "Manufacture of food products"
        ],
        [
         "1536816",
         "2017-06-04 09:00:00",
         "1.3966",
         "U11",
         "C",
         "10",
         "Manufacture of food products"
        ],
        [
         "1536817",
         "2017-06-04 09:15:00",
         "1.5363",
         "U11",
         "C",
         "10",
         "Manufacture of food products"
        ],
        [
         "1536818",
         "2017-06-04 09:30:00",
         "2.2346",
         "U11",
         "C",
         "10",
         "Manufacture of food products"
        ],
        [
         "1536819",
         "2017-06-04 09:45:00",
         "3.771",
         "U11",
         "C",
         "10",
         "Manufacture of food products"
        ],
        [
         "1536820",
         "2017-06-04 10:00:00",
         "1.5363",
         "U11",
         "C",
         "10",
         "Manufacture of food products"
        ],
        [
         "1536821",
         "2017-06-04 10:15:00",
         "1.5363",
         "U11",
         "C",
         "10",
         "Manufacture of food products"
        ],
        [
         "1536822",
         "2017-06-04 10:30:00",
         "1.3966",
         "U11",
         "C",
         "10",
         "Manufacture of food products"
        ],
        [
         "1536823",
         "2017-06-04 10:45:00",
         "1.5363",
         "U11",
         "C",
         "10",
         "Manufacture of food products"
        ],
        [
         "1536824",
         "2017-06-04 11:00:00",
         "1.3966",
         "U11",
         "C",
         "10",
         "Manufacture of food products"
        ],
        [
         "1536825",
         "2017-06-04 11:15:00",
         "2.9330000000000003",
         "U11",
         "C",
         "10",
         "Manufacture of food products"
        ],
        [
         "1536826",
         "2017-06-04 11:30:00",
         "3.4916",
         "U11",
         "C",
         "10",
         "Manufacture of food products"
        ],
        [
         "1536827",
         "2017-06-04 11:45:00",
         "1.5363",
         "U11",
         "C",
         "10",
         "Manufacture of food products"
        ],
        [
         "1536828",
         "2017-06-04 12:00:00",
         "1.3966",
         "U11",
         "C",
         "10",
         "Manufacture of food products"
        ],
        [
         "1536829",
         "2017-06-04 12:15:00",
         "2.2346",
         "U11",
         "C",
         "10",
         "Manufacture of food products"
        ],
        [
         "1536830",
         "2017-06-04 12:30:00",
         "2.2346",
         "U11",
         "C",
         "10",
         "Manufacture of food products"
        ]
       ],
       "shape": {
        "columns": 6,
        "rows": 36211437
       }
      },
      "text/html": [
       "<div>\n",
       "<style scoped>\n",
       "    .dataframe tbody tr th:only-of-type {\n",
       "        vertical-align: middle;\n",
       "    }\n",
       "\n",
       "    .dataframe tbody tr th {\n",
       "        vertical-align: top;\n",
       "    }\n",
       "\n",
       "    .dataframe thead th {\n",
       "        text-align: right;\n",
       "    }\n",
       "</style>\n",
       "<table border=\"1\" class=\"dataframe\">\n",
       "  <thead>\n",
       "    <tr style=\"text-align: right;\">\n",
       "      <th></th>\n",
       "      <th>Time</th>\n",
       "      <th>Energy_cons [kWh]</th>\n",
       "      <th>User</th>\n",
       "      <th>Section</th>\n",
       "      <th>Division Code</th>\n",
       "      <th>Division Name</th>\n",
       "    </tr>\n",
       "  </thead>\n",
       "  <tbody>\n",
       "    <tr>\n",
       "      <th>1536781</th>\n",
       "      <td>2017-06-04 00:15:00</td>\n",
       "      <td>1.8156</td>\n",
       "      <td>U11</td>\n",
       "      <td>C</td>\n",
       "      <td>10</td>\n",
       "      <td>Manufacture of food products</td>\n",
       "    </tr>\n",
       "    <tr>\n",
       "      <th>1536782</th>\n",
       "      <td>2017-06-04 00:30:00</td>\n",
       "      <td>1.8156</td>\n",
       "      <td>U11</td>\n",
       "      <td>C</td>\n",
       "      <td>10</td>\n",
       "      <td>Manufacture of food products</td>\n",
       "    </tr>\n",
       "    <tr>\n",
       "      <th>1536783</th>\n",
       "      <td>2017-06-04 00:45:00</td>\n",
       "      <td>1.8156</td>\n",
       "      <td>U11</td>\n",
       "      <td>C</td>\n",
       "      <td>10</td>\n",
       "      <td>Manufacture of food products</td>\n",
       "    </tr>\n",
       "    <tr>\n",
       "      <th>1536784</th>\n",
       "      <td>2017-06-04 01:00:00</td>\n",
       "      <td>1.8156</td>\n",
       "      <td>U11</td>\n",
       "      <td>C</td>\n",
       "      <td>10</td>\n",
       "      <td>Manufacture of food products</td>\n",
       "    </tr>\n",
       "    <tr>\n",
       "      <th>1536785</th>\n",
       "      <td>2017-06-04 01:15:00</td>\n",
       "      <td>2.5140</td>\n",
       "      <td>U11</td>\n",
       "      <td>C</td>\n",
       "      <td>10</td>\n",
       "      <td>Manufacture of food products</td>\n",
       "    </tr>\n",
       "    <tr>\n",
       "      <th>...</th>\n",
       "      <td>...</td>\n",
       "      <td>...</td>\n",
       "      <td>...</td>\n",
       "      <td>...</td>\n",
       "      <td>...</td>\n",
       "      <td>...</td>\n",
       "    </tr>\n",
       "    <tr>\n",
       "      <th>37748213</th>\n",
       "      <td>2019-05-17 14:00:00</td>\n",
       "      <td>19.3786</td>\n",
       "      <td>U255</td>\n",
       "      <td>C</td>\n",
       "      <td>33</td>\n",
       "      <td>Repair and installation of machinery and equip...</td>\n",
       "    </tr>\n",
       "    <tr>\n",
       "      <th>37748214</th>\n",
       "      <td>2019-05-17 14:15:00</td>\n",
       "      <td>16.9465</td>\n",
       "      <td>U255</td>\n",
       "      <td>C</td>\n",
       "      <td>33</td>\n",
       "      <td>Repair and installation of machinery and equip...</td>\n",
       "    </tr>\n",
       "    <tr>\n",
       "      <th>37748215</th>\n",
       "      <td>2019-05-17 14:30:00</td>\n",
       "      <td>15.8481</td>\n",
       "      <td>U255</td>\n",
       "      <td>C</td>\n",
       "      <td>33</td>\n",
       "      <td>Repair and installation of machinery and equip...</td>\n",
       "    </tr>\n",
       "    <tr>\n",
       "      <th>37748216</th>\n",
       "      <td>2019-05-17 14:45:00</td>\n",
       "      <td>16.0835</td>\n",
       "      <td>U255</td>\n",
       "      <td>C</td>\n",
       "      <td>33</td>\n",
       "      <td>Repair and installation of machinery and equip...</td>\n",
       "    </tr>\n",
       "    <tr>\n",
       "      <th>37748217</th>\n",
       "      <td>2019-05-17 15:00:00</td>\n",
       "      <td>15.2989</td>\n",
       "      <td>U255</td>\n",
       "      <td>C</td>\n",
       "      <td>33</td>\n",
       "      <td>Repair and installation of machinery and equip...</td>\n",
       "    </tr>\n",
       "  </tbody>\n",
       "</table>\n",
       "<p>36211437 rows × 6 columns</p>\n",
       "</div>"
      ],
      "text/plain": [
       "                         Time  Energy_cons [kWh]  User Section Division Code  \\\n",
       "1536781   2017-06-04 00:15:00             1.8156   U11       C            10   \n",
       "1536782   2017-06-04 00:30:00             1.8156   U11       C            10   \n",
       "1536783   2017-06-04 00:45:00             1.8156   U11       C            10   \n",
       "1536784   2017-06-04 01:00:00             1.8156   U11       C            10   \n",
       "1536785   2017-06-04 01:15:00             2.5140   U11       C            10   \n",
       "...                       ...                ...   ...     ...           ...   \n",
       "37748213  2019-05-17 14:00:00            19.3786  U255       C            33   \n",
       "37748214  2019-05-17 14:15:00            16.9465  U255       C            33   \n",
       "37748215  2019-05-17 14:30:00            15.8481  U255       C            33   \n",
       "37748216  2019-05-17 14:45:00            16.0835  U255       C            33   \n",
       "37748217  2019-05-17 15:00:00            15.2989  U255       C            33   \n",
       "\n",
       "                                              Division Name  \n",
       "1536781                        Manufacture of food products  \n",
       "1536782                        Manufacture of food products  \n",
       "1536783                        Manufacture of food products  \n",
       "1536784                        Manufacture of food products  \n",
       "1536785                        Manufacture of food products  \n",
       "...                                                     ...  \n",
       "37748213  Repair and installation of machinery and equip...  \n",
       "37748214  Repair and installation of machinery and equip...  \n",
       "37748215  Repair and installation of machinery and equip...  \n",
       "37748216  Repair and installation of machinery and equip...  \n",
       "37748217  Repair and installation of machinery and equip...  \n",
       "\n",
       "[36211437 rows x 6 columns]"
      ]
     },
     "execution_count": 57,
     "metadata": {},
     "output_type": "execute_result"
    }
   ],
   "source": [
    "# filter\n",
    "combined_C_df = combined_df[combined_df['Section'] == 'C']\n",
    "combined_C_df"
   ]
  },
  {
   "cell_type": "code",
   "execution_count": null,
   "id": "775ebbdc",
   "metadata": {},
   "outputs": [],
   "source": [
    "# Drop the unwanted column\n",
    "combined_C_df = combined_C_df.drop(columns=['Section'])"
   ]
  },
  {
   "cell_type": "code",
   "execution_count": 59,
   "id": "d119d43f",
   "metadata": {},
   "outputs": [
    {
     "name": "stdout",
     "output_type": "stream",
     "text": [
      "Number of rows all users: 55277891\n",
      "Number of rows for selected section C: 36211437\n"
     ]
    }
   ],
   "source": [
    "num_rows = len(combined_df)\n",
    "print(f\"Number of rows all users: {num_rows}\")\n",
    "num_rows_C = len(combined_C_df)\n",
    "print(f\"Number of rows for selected section C: {num_rows_C}\")"
   ]
  },
  {
   "cell_type": "code",
   "execution_count": 61,
   "id": "d4c8c79c",
   "metadata": {},
   "outputs": [
    {
     "name": "stdout",
     "output_type": "stream",
     "text": [
      "Number of Energy consumption = 0 for user from section C\n"
     ]
    },
    {
     "data": {
      "application/vnd.microsoft.datawrangler.viewer.v0+json": {
       "columns": [
        {
         "name": "index",
         "rawType": "object",
         "type": "string"
        },
        {
         "name": "0",
         "rawType": "int64",
         "type": "integer"
        }
       ],
       "ref": "29e69cfd-c67d-4239-8a33-0095f70cfdfe",
       "rows": [
        [
         "Time",
         "0"
        ],
        [
         "Energy_cons [kWh]",
         "8607472"
        ],
        [
         "User",
         "0"
        ],
        [
         "Section",
         "0"
        ],
        [
         "Division Code",
         "0"
        ],
        [
         "Division Name",
         "0"
        ]
       ],
       "shape": {
        "columns": 1,
        "rows": 6
       }
      },
      "text/plain": [
       "Time                       0\n",
       "Energy_cons [kWh]    8607472\n",
       "User                       0\n",
       "Section                    0\n",
       "Division Code              0\n",
       "Division Name              0\n",
       "dtype: int64"
      ]
     },
     "execution_count": 61,
     "metadata": {},
     "output_type": "execute_result"
    }
   ],
   "source": [
    "# Show zeros per user in filtered data\n",
    "zero_counts_C = (combined_C_df == 0).sum()\n",
    "print(\"Number of Energy consumption = 0 for user from section C\")\n",
    "zero_counts_C"
   ]
  },
  {
   "cell_type": "code",
   "execution_count": 63,
   "id": "8159f09d",
   "metadata": {},
   "outputs": [
    {
     "name": "stdout",
     "output_type": "stream",
     "text": [
      "Zero Values pre users (count and percentage)\n",
      "\n",
      "      Energy_cons_total  Energy_cons_zeros  Energy_cons_zeros_percent\n",
      "User                                                                 \n",
      "U106             142345             135853                      95.44\n",
      "U41              195743             168153                      85.90\n",
      "U119             181439             135072                      74.44\n",
      "U104             160511             116518                      72.59\n",
      "U128             154757             110221                      71.22\n",
      "U162              98037              68769                      70.15\n",
      "U117             148552             103927                      69.96\n",
      "U125             150242              99826                      66.44\n",
      "U58              140988              88820                      63.00\n",
      "U229             195743             118991                      60.79\n",
      "U30              194111             114962                      59.22\n",
      "U216             154847              91480                      59.08\n",
      "U54              180936             106363                      58.78\n",
      "U228             161532              94388                      58.43\n",
      "U21              121989              70692                      57.95\n",
      "U59              142518              81228                      56.99\n",
      "U86              190079             107119                      56.35\n",
      "U232             205151             115544                      56.32\n",
      "U133             147839              83034                      56.17\n",
      "U76               90222              50564                      56.04\n",
      "U250             164481              89538                      54.44\n",
      "U12               95940              51646                      53.83\n",
      "U238             216959             114883                      52.95\n",
      "U57              216959             113940                      52.52\n",
      "U45              216959             113029                      52.10\n",
      "U34              187967              97806                      52.03\n",
      "U209             165353              85455                      51.68\n",
      "U156             161339              82886                      51.37\n",
      "U38              195743              99417                      50.79\n",
      "U60              216959             109171                      50.32\n"
     ]
    }
   ],
   "source": [
    "# Count total values per user\n",
    "total_counts = combined_C_df.groupby('User')[['Energy_cons [kWh]']].count()\n",
    "\n",
    "# Count zeros per user\n",
    "zero_counts = combined_C_df.groupby('User')[['Energy_cons [kWh]']].apply(lambda x: (x == 0).sum())\n",
    "\n",
    "# Calculate percentage of zeros\n",
    "percent_zeros = zero_counts / total_counts * 100\n",
    "\n",
    "# Rename columns for clarity\n",
    "zero_counts.columns = ['Energy_cons_zeros']\n",
    "total_counts.columns = ['Energy_cons_total']\n",
    "percent_zeros.columns = [ 'Energy_cons_zeros_percent']\n",
    "\n",
    "# Combine all results into one DataFrame\n",
    "summary_0_energy = pd.concat([total_counts, zero_counts, percent_zeros], axis=1)\n",
    "\n",
    "# Round percentage columns\n",
    "summary_0_energy['Energy_cons_zeros_percent'] = summary_0_energy['Energy_cons_zeros_percent'].round(2)\n",
    "\n",
    "#sorted summary by the percentage\n",
    "sorted_0_summary = summary_0_energy.sort_values('Energy_cons_zeros_percent', ascending=False)\n",
    "print(\"Zero Values pre users (count and percentage)\\n\")\n",
    "print(sorted_0_summary.head(30))"
   ]
  },
  {
   "cell_type": "code",
   "execution_count": 64,
   "id": "9c36061e",
   "metadata": {},
   "outputs": [
    {
     "name": "stdout",
     "output_type": "stream",
     "text": [
      "\n",
      "Detailed Percentage Distribution of Zero Values in Section C:\n",
      "Percentage Range  User Count Percentage of Users\n",
      "           0-30%         172               70.2%\n",
      "          30-50%          43               17.6%\n",
      "          50-70%          24                9.8%\n",
      "         70-100%           6                2.4%\n",
      "           Total         245                100%\n"
     ]
    }
   ],
   "source": [
    "# Calculate total number of users to emiminate if o numbers is > 70%\n",
    "total_users = len(sorted_0_summary)\n",
    "detailed_summary = pd.DataFrame({\n",
    "    'Percentage Range': ['0-30%', '30-50%', '50-70%', '70-100%', 'Total'],\n",
    "    'User Count': [\n",
    "        ((sorted_0_summary['Energy_cons_zeros_percent'] <= 30)).sum(),\n",
    "        ((sorted_0_summary['Energy_cons_zeros_percent'] > 30) & \n",
    "         (sorted_0_summary['Energy_cons_zeros_percent'] <= 50)).sum(),\n",
    "        ((sorted_0_summary['Energy_cons_zeros_percent'] > 50) & \n",
    "         (sorted_0_summary['Energy_cons_zeros_percent'] <= 70)).sum(),\n",
    "        (sorted_0_summary['Energy_cons_zeros_percent'] > 70).sum(),\n",
    "        total_users\n",
    "    ],\n",
    "    'Percentage of Users': [\n",
    "        f\"{((sorted_0_summary['Energy_cons_zeros_percent'] <= 30)).sum() / total_users * 100:.1f}%\",\n",
    "        f\"{((sorted_0_summary['Energy_cons_zeros_percent'] > 30) & (sorted_0_summary['Energy_cons_zeros_percent'] <= 50)).sum() / total_users * 100:.1f}%\",\n",
    "        f\"{((sorted_0_summary['Energy_cons_zeros_percent'] > 50) & (sorted_0_summary['Energy_cons_zeros_percent'] <= 70)).sum() / total_users * 100:.1f}%\",\n",
    "        f\"{(sorted_0_summary['Energy_cons_zeros_percent'] > 70).sum() / total_users * 100:.1f}%\",\n",
    "        '100%'\n",
    "    ]\n",
    "})\n",
    "\n",
    "print(\"\\nDetailed Percentage Distribution of Zero Values in Section C:\")\n",
    "print(detailed_summary.to_string(index=False))"
   ]
  },
  {
   "cell_type": "markdown",
   "id": "165a6e7f",
   "metadata": {},
   "source": [
    "## STEP 3 Exclude users if their energy consumption remains above 70% for Users\n",
    "\n",
    "raw_consumption_C"
   ]
  },
  {
   "cell_type": "code",
   "execution_count": null,
   "id": "8beffae2",
   "metadata": {},
   "outputs": [
    {
     "name": "stdout",
     "output_type": "stream",
     "text": [
      "\n",
      "Zero count in original data: 8607472\n",
      "\n",
      "Original number of users: 245\n",
      "Number of users after exclusion: 239\n",
      "Number of excluded users: 6\n",
      "\n",
      "Zero count in filtered data: 7872886\n",
      "\n",
      "Number of 0 values excluded by user filtering: 734586\n",
      "\n",
      "Excluded users: ['U106', 'U41', 'U119', 'U104', 'U128', 'U162']\n"
     ]
    }
   ],
   "source": [
    "# List of users to exclude\n",
    "users_to_exclude = ['U106', 'U41', 'U119', 'U104', 'U128', 'U162']\n",
    "\n",
    "# Count zeros in original data (BEFORE exclusion)\n",
    "zeros_before = (combined_C_df['Energy_cons [kWh]'] == 0).sum()\n",
    "print(f\"\\nZero count in original data: {zeros_before}\")\n",
    "\n",
    "# Create filtered DataFrame by EXCLUDING these users\n",
    "raw_consumption_C = combined_C_df[~combined_C_df['User'].isin(users_to_exclude)].copy()\n",
    "\n",
    "# Verify the users and rows exclusion\n",
    "print(f\"\\nOriginal number of users: {combined_C_df['User'].nunique()}\")\n",
    "print(f\"Number of users after exclusion: {raw_consumption_C['User'].nunique()}\")\n",
    "print(f\"Number of excluded users: {len(users_to_exclude)}\")\n",
    "\n",
    "# Count zeros in filtered data (AFTER exclusion)\n",
    "zeros_after = (raw_consumption_C['Energy_cons [kWh]'] == 0).sum()\n",
    "print(f\"\\nZero count in filtered data: {zeros_after}\")\n",
    "\n",
    "# Calculate how many zeros were excluded by this user filtering\n",
    "zeros_excluded = zeros_before - zeros_after\n",
    "print(f\"\\nNumber of 0 values excluded by user filtering: {zeros_excluded}\")\n",
    "\n",
    "# Print the excluded users\n",
    "print(\"\\nExcluded users:\", users_to_exclude)"
   ]
  },
  {
   "cell_type": "code",
   "execution_count": 81,
   "id": "22dfafd7",
   "metadata": {},
   "outputs": [
    {
     "name": "stdout",
     "output_type": "stream",
     "text": [
      "<class 'pandas.core.frame.DataFrame'>\n"
     ]
    }
   ],
   "source": [
    "print(type(raw_consumption_C))"
   ]
  },
  {
   "cell_type": "markdown",
   "id": "5a3ca349",
   "metadata": {},
   "source": [
    "## STEP 4 Fill remaining 0 values in Energy_cons [kWh] column with interpolated values \n",
    "raw_consumption_C_0_fill"
   ]
  },
  {
   "cell_type": "code",
   "execution_count": 100,
   "id": "8bc298f3",
   "metadata": {},
   "outputs": [
    {
     "data": {
      "application/vnd.microsoft.datawrangler.viewer.v0+json": {
       "columns": [
        {
         "name": "index",
         "rawType": "int64",
         "type": "integer"
        },
        {
         "name": "Time",
         "rawType": "object",
         "type": "string"
        },
        {
         "name": "Energy_cons [kWh]",
         "rawType": "float64",
         "type": "float"
        },
        {
         "name": "User",
         "rawType": "object",
         "type": "string"
        },
        {
         "name": "Section",
         "rawType": "object",
         "type": "string"
        },
        {
         "name": "Division Code",
         "rawType": "object",
         "type": "string"
        },
        {
         "name": "Division Name",
         "rawType": "object",
         "type": "string"
        }
       ],
       "ref": "772c4ebc-b115-48c4-9d89-bc5af5d883e7",
       "rows": [
        [
         "1536781",
         "2017-06-04 00:15:00",
         "1.8156",
         "U11",
         "C",
         "10",
         "Manufacture of food products"
        ],
        [
         "1536782",
         "2017-06-04 00:30:00",
         "1.8156",
         "U11",
         "C",
         "10",
         "Manufacture of food products"
        ],
        [
         "1536783",
         "2017-06-04 00:45:00",
         "1.8156",
         "U11",
         "C",
         "10",
         "Manufacture of food products"
        ],
        [
         "1536784",
         "2017-06-04 01:00:00",
         "1.8156",
         "U11",
         "C",
         "10",
         "Manufacture of food products"
        ],
        [
         "1536785",
         "2017-06-04 01:15:00",
         "2.514",
         "U11",
         "C",
         "10",
         "Manufacture of food products"
        ],
        [
         "1536786",
         "2017-06-04 01:30:00",
         "3.771",
         "U11",
         "C",
         "10",
         "Manufacture of food products"
        ],
        [
         "1536787",
         "2017-06-04 01:45:00",
         "1.5363",
         "U11",
         "C",
         "10",
         "Manufacture of food products"
        ],
        [
         "1536788",
         "2017-06-04 02:00:00",
         "1.5363",
         "U11",
         "C",
         "10",
         "Manufacture of food products"
        ],
        [
         "1536789",
         "2017-06-04 02:15:00",
         "1.5363",
         "U11",
         "C",
         "10",
         "Manufacture of food products"
        ],
        [
         "1536790",
         "2017-06-04 02:30:00",
         "1.5363",
         "U11",
         "C",
         "10",
         "Manufacture of food products"
        ],
        [
         "1536791",
         "2017-06-04 02:45:00",
         "1.3966",
         "U11",
         "C",
         "10",
         "Manufacture of food products"
        ],
        [
         "1536792",
         "2017-06-04 03:00:00",
         "3.771",
         "U11",
         "C",
         "10",
         "Manufacture of food products"
        ],
        [
         "1536793",
         "2017-06-04 03:15:00",
         "2.2346",
         "U11",
         "C",
         "10",
         "Manufacture of food products"
        ],
        [
         "1536794",
         "2017-06-04 03:30:00",
         "1.5363",
         "U11",
         "C",
         "10",
         "Manufacture of food products"
        ],
        [
         "1536795",
         "2017-06-04 03:45:00",
         "1.5363",
         "U11",
         "C",
         "10",
         "Manufacture of food products"
        ],
        [
         "1536796",
         "2017-06-04 04:00:00",
         "1.5363",
         "U11",
         "C",
         "10",
         "Manufacture of food products"
        ],
        [
         "1536797",
         "2017-06-04 04:15:00",
         "1.3966",
         "U11",
         "C",
         "10",
         "Manufacture of food products"
        ],
        [
         "1536798",
         "2017-06-04 04:30:00",
         "1.676",
         "U11",
         "C",
         "10",
         "Manufacture of food products"
        ],
        [
         "1536799",
         "2017-06-04 04:45:00",
         "4.3296",
         "U11",
         "C",
         "10",
         "Manufacture of food products"
        ],
        [
         "1536800",
         "2017-06-04 05:00:00",
         "1.5363",
         "U11",
         "C",
         "10",
         "Manufacture of food products"
        ],
        [
         "1536801",
         "2017-06-04 05:15:00",
         "1.5363",
         "U11",
         "C",
         "10",
         "Manufacture of food products"
        ],
        [
         "1536802",
         "2017-06-04 05:30:00",
         "1.5363",
         "U11",
         "C",
         "10",
         "Manufacture of food products"
        ],
        [
         "1536803",
         "2017-06-04 05:45:00",
         "1.5363",
         "U11",
         "C",
         "10",
         "Manufacture of food products"
        ],
        [
         "1536804",
         "2017-06-04 06:00:00",
         "1.5363",
         "U11",
         "C",
         "10",
         "Manufacture of food products"
        ],
        [
         "1536805",
         "2017-06-04 06:15:00",
         "2.6536",
         "U11",
         "C",
         "10",
         "Manufacture of food products"
        ],
        [
         "1536806",
         "2017-06-04 06:30:00",
         "3.2123",
         "U11",
         "C",
         "10",
         "Manufacture of food products"
        ],
        [
         "1536807",
         "2017-06-04 06:45:00",
         "1.5363",
         "U11",
         "C",
         "10",
         "Manufacture of food products"
        ],
        [
         "1536808",
         "2017-06-04 07:00:00",
         "1.676",
         "U11",
         "C",
         "10",
         "Manufacture of food products"
        ],
        [
         "1536809",
         "2017-06-04 07:15:00",
         "1.3966",
         "U11",
         "C",
         "10",
         "Manufacture of food products"
        ],
        [
         "1536810",
         "2017-06-04 07:30:00",
         "2.095",
         "U11",
         "C",
         "10",
         "Manufacture of food products"
        ],
        [
         "1536811",
         "2017-06-04 07:45:00",
         "2.3743",
         "U11",
         "C",
         "10",
         "Manufacture of food products"
        ],
        [
         "1536812",
         "2017-06-04 08:00:00",
         "5.1676",
         "U11",
         "C",
         "10",
         "Manufacture of food products"
        ],
        [
         "1536813",
         "2017-06-04 08:15:00",
         "1.676",
         "U11",
         "C",
         "10",
         "Manufacture of food products"
        ],
        [
         "1536814",
         "2017-06-04 08:30:00",
         "1.3966",
         "U11",
         "C",
         "10",
         "Manufacture of food products"
        ],
        [
         "1536815",
         "2017-06-04 08:45:00",
         "1.3966",
         "U11",
         "C",
         "10",
         "Manufacture of food products"
        ],
        [
         "1536816",
         "2017-06-04 09:00:00",
         "1.3966",
         "U11",
         "C",
         "10",
         "Manufacture of food products"
        ],
        [
         "1536817",
         "2017-06-04 09:15:00",
         "1.5363",
         "U11",
         "C",
         "10",
         "Manufacture of food products"
        ],
        [
         "1536818",
         "2017-06-04 09:30:00",
         "2.2346",
         "U11",
         "C",
         "10",
         "Manufacture of food products"
        ],
        [
         "1536819",
         "2017-06-04 09:45:00",
         "3.771",
         "U11",
         "C",
         "10",
         "Manufacture of food products"
        ],
        [
         "1536820",
         "2017-06-04 10:00:00",
         "1.5363",
         "U11",
         "C",
         "10",
         "Manufacture of food products"
        ],
        [
         "1536821",
         "2017-06-04 10:15:00",
         "1.5363",
         "U11",
         "C",
         "10",
         "Manufacture of food products"
        ],
        [
         "1536822",
         "2017-06-04 10:30:00",
         "1.3966",
         "U11",
         "C",
         "10",
         "Manufacture of food products"
        ],
        [
         "1536823",
         "2017-06-04 10:45:00",
         "1.5363",
         "U11",
         "C",
         "10",
         "Manufacture of food products"
        ],
        [
         "1536824",
         "2017-06-04 11:00:00",
         "1.3966",
         "U11",
         "C",
         "10",
         "Manufacture of food products"
        ],
        [
         "1536825",
         "2017-06-04 11:15:00",
         "2.9330000000000003",
         "U11",
         "C",
         "10",
         "Manufacture of food products"
        ],
        [
         "1536826",
         "2017-06-04 11:30:00",
         "3.4916",
         "U11",
         "C",
         "10",
         "Manufacture of food products"
        ],
        [
         "1536827",
         "2017-06-04 11:45:00",
         "1.5363",
         "U11",
         "C",
         "10",
         "Manufacture of food products"
        ],
        [
         "1536828",
         "2017-06-04 12:00:00",
         "1.3966",
         "U11",
         "C",
         "10",
         "Manufacture of food products"
        ],
        [
         "1536829",
         "2017-06-04 12:15:00",
         "2.2346",
         "U11",
         "C",
         "10",
         "Manufacture of food products"
        ],
        [
         "1536830",
         "2017-06-04 12:30:00",
         "2.2346",
         "U11",
         "C",
         "10",
         "Manufacture of food products"
        ]
       ],
       "shape": {
        "columns": 6,
        "rows": 35278605
       }
      },
      "text/html": [
       "<div>\n",
       "<style scoped>\n",
       "    .dataframe tbody tr th:only-of-type {\n",
       "        vertical-align: middle;\n",
       "    }\n",
       "\n",
       "    .dataframe tbody tr th {\n",
       "        vertical-align: top;\n",
       "    }\n",
       "\n",
       "    .dataframe thead th {\n",
       "        text-align: right;\n",
       "    }\n",
       "</style>\n",
       "<table border=\"1\" class=\"dataframe\">\n",
       "  <thead>\n",
       "    <tr style=\"text-align: right;\">\n",
       "      <th></th>\n",
       "      <th>Time</th>\n",
       "      <th>Energy_cons [kWh]</th>\n",
       "      <th>User</th>\n",
       "      <th>Section</th>\n",
       "      <th>Division Code</th>\n",
       "      <th>Division Name</th>\n",
       "    </tr>\n",
       "  </thead>\n",
       "  <tbody>\n",
       "    <tr>\n",
       "      <th>1536781</th>\n",
       "      <td>2017-06-04 00:15:00</td>\n",
       "      <td>1.8156</td>\n",
       "      <td>U11</td>\n",
       "      <td>C</td>\n",
       "      <td>10</td>\n",
       "      <td>Manufacture of food products</td>\n",
       "    </tr>\n",
       "    <tr>\n",
       "      <th>1536782</th>\n",
       "      <td>2017-06-04 00:30:00</td>\n",
       "      <td>1.8156</td>\n",
       "      <td>U11</td>\n",
       "      <td>C</td>\n",
       "      <td>10</td>\n",
       "      <td>Manufacture of food products</td>\n",
       "    </tr>\n",
       "    <tr>\n",
       "      <th>1536783</th>\n",
       "      <td>2017-06-04 00:45:00</td>\n",
       "      <td>1.8156</td>\n",
       "      <td>U11</td>\n",
       "      <td>C</td>\n",
       "      <td>10</td>\n",
       "      <td>Manufacture of food products</td>\n",
       "    </tr>\n",
       "    <tr>\n",
       "      <th>1536784</th>\n",
       "      <td>2017-06-04 01:00:00</td>\n",
       "      <td>1.8156</td>\n",
       "      <td>U11</td>\n",
       "      <td>C</td>\n",
       "      <td>10</td>\n",
       "      <td>Manufacture of food products</td>\n",
       "    </tr>\n",
       "    <tr>\n",
       "      <th>1536785</th>\n",
       "      <td>2017-06-04 01:15:00</td>\n",
       "      <td>2.5140</td>\n",
       "      <td>U11</td>\n",
       "      <td>C</td>\n",
       "      <td>10</td>\n",
       "      <td>Manufacture of food products</td>\n",
       "    </tr>\n",
       "    <tr>\n",
       "      <th>...</th>\n",
       "      <td>...</td>\n",
       "      <td>...</td>\n",
       "      <td>...</td>\n",
       "      <td>...</td>\n",
       "      <td>...</td>\n",
       "      <td>...</td>\n",
       "    </tr>\n",
       "    <tr>\n",
       "      <th>37748213</th>\n",
       "      <td>2019-05-17 14:00:00</td>\n",
       "      <td>19.3786</td>\n",
       "      <td>U255</td>\n",
       "      <td>C</td>\n",
       "      <td>33</td>\n",
       "      <td>Repair and installation of machinery and equip...</td>\n",
       "    </tr>\n",
       "    <tr>\n",
       "      <th>37748214</th>\n",
       "      <td>2019-05-17 14:15:00</td>\n",
       "      <td>16.9465</td>\n",
       "      <td>U255</td>\n",
       "      <td>C</td>\n",
       "      <td>33</td>\n",
       "      <td>Repair and installation of machinery and equip...</td>\n",
       "    </tr>\n",
       "    <tr>\n",
       "      <th>37748215</th>\n",
       "      <td>2019-05-17 14:30:00</td>\n",
       "      <td>15.8481</td>\n",
       "      <td>U255</td>\n",
       "      <td>C</td>\n",
       "      <td>33</td>\n",
       "      <td>Repair and installation of machinery and equip...</td>\n",
       "    </tr>\n",
       "    <tr>\n",
       "      <th>37748216</th>\n",
       "      <td>2019-05-17 14:45:00</td>\n",
       "      <td>16.0835</td>\n",
       "      <td>U255</td>\n",
       "      <td>C</td>\n",
       "      <td>33</td>\n",
       "      <td>Repair and installation of machinery and equip...</td>\n",
       "    </tr>\n",
       "    <tr>\n",
       "      <th>37748217</th>\n",
       "      <td>2019-05-17 15:00:00</td>\n",
       "      <td>15.2989</td>\n",
       "      <td>U255</td>\n",
       "      <td>C</td>\n",
       "      <td>33</td>\n",
       "      <td>Repair and installation of machinery and equip...</td>\n",
       "    </tr>\n",
       "  </tbody>\n",
       "</table>\n",
       "<p>35278605 rows × 6 columns</p>\n",
       "</div>"
      ],
      "text/plain": [
       "                         Time  Energy_cons [kWh]  User Section Division Code  \\\n",
       "1536781   2017-06-04 00:15:00             1.8156   U11       C            10   \n",
       "1536782   2017-06-04 00:30:00             1.8156   U11       C            10   \n",
       "1536783   2017-06-04 00:45:00             1.8156   U11       C            10   \n",
       "1536784   2017-06-04 01:00:00             1.8156   U11       C            10   \n",
       "1536785   2017-06-04 01:15:00             2.5140   U11       C            10   \n",
       "...                       ...                ...   ...     ...           ...   \n",
       "37748213  2019-05-17 14:00:00            19.3786  U255       C            33   \n",
       "37748214  2019-05-17 14:15:00            16.9465  U255       C            33   \n",
       "37748215  2019-05-17 14:30:00            15.8481  U255       C            33   \n",
       "37748216  2019-05-17 14:45:00            16.0835  U255       C            33   \n",
       "37748217  2019-05-17 15:00:00            15.2989  U255       C            33   \n",
       "\n",
       "                                              Division Name  \n",
       "1536781                        Manufacture of food products  \n",
       "1536782                        Manufacture of food products  \n",
       "1536783                        Manufacture of food products  \n",
       "1536784                        Manufacture of food products  \n",
       "1536785                        Manufacture of food products  \n",
       "...                                                     ...  \n",
       "37748213  Repair and installation of machinery and equip...  \n",
       "37748214  Repair and installation of machinery and equip...  \n",
       "37748215  Repair and installation of machinery and equip...  \n",
       "37748216  Repair and installation of machinery and equip...  \n",
       "37748217  Repair and installation of machinery and equip...  \n",
       "\n",
       "[35278605 rows x 6 columns]"
      ]
     },
     "execution_count": 100,
     "metadata": {},
     "output_type": "execute_result"
    }
   ],
   "source": [
    "# data frame copy to fill\n",
    "raw_consumption_C_0_fill = raw_consumption_C.copy()\n",
    "raw_consumption_C_0_fill"
   ]
  },
  {
   "cell_type": "code",
   "execution_count": 101,
   "id": "8c0d46b9",
   "metadata": {},
   "outputs": [
    {
     "name": "stdout",
     "output_type": "stream",
     "text": [
      "<class 'pandas.core.frame.DataFrame'>\n"
     ]
    }
   ],
   "source": [
    "# 1. Data preparation - replace zeros with NaN (required for interpolation)\n",
    "raw_consumption_C_0_fill['Energy_cons [kWh]'] = raw_consumption_C_0_fill['Energy_cons [kWh]'].replace(0, float('nan'))\n",
    "\n",
    "# 2. Linear interpolation grouped by user\n",
    "raw_consumption_C_0_fill['Energy_cons_interpolated'] = (\n",
    "    raw_consumption_C_0_fill\n",
    "    .groupby('User')['Energy_cons [kWh]']\n",
    "    .transform(lambda x: x.interpolate(method='linear')))\n",
    "\n",
    "# 3. For remaining NaNs (at start/end of series) - fill with last known value\n",
    "raw_consumption_C_0_fill['Energy_cons_interpolated'] = (\n",
    "    raw_consumption_C_0_fill\n",
    "    .groupby('User')['Energy_cons_interpolated']\n",
    "    .transform(lambda x: x.ffill().bfill()))\n",
    "\n",
    "print(type(raw_consumption_C_0_fill))"
   ]
  },
  {
   "cell_type": "code",
   "execution_count": 102,
   "id": "05241b91",
   "metadata": {},
   "outputs": [
    {
     "name": "stdout",
     "output_type": "stream",
     "text": [
      "Before interpolation:\n",
      "Zero count: 7872886\n",
      "NaN count: 0\n",
      "\n",
      "After interpolation:\n",
      "NaN count: 0\n",
      "Number of 0 values in Energy_cons [kWh] AFTER manipulation: 0\n",
      "\n",
      "Number of 0 values excluded: 7872886\n",
      "\n",
      "Sample rows:\n"
     ]
    },
    {
     "data": {
      "application/vnd.microsoft.datawrangler.viewer.v0+json": {
       "columns": [
        {
         "name": "index",
         "rawType": "int64",
         "type": "integer"
        },
        {
         "name": "User",
         "rawType": "object",
         "type": "string"
        },
        {
         "name": "Time",
         "rawType": "object",
         "type": "string"
        },
        {
         "name": "Energy_cons [kWh]",
         "rawType": "float64",
         "type": "float"
        },
        {
         "name": "Energy_cons_interpolated",
         "rawType": "float64",
         "type": "float"
        }
       ],
       "ref": "f9aa2d9b-3d09-4f51-8405-28b03e149243",
       "rows": [
        [
         "21282683",
         "U144",
         "2016-06-06 04:30:00",
         "2.5963",
         "2.5963"
        ],
        [
         "11267169",
         "U73",
         "2019-02-15 15:30:00",
         "1.1227",
         "1.1227"
        ],
        [
         "12383004",
         "U80",
         "2021-04-23 02:45:00",
         "28.4607",
         "28.4607"
        ],
        [
         "27758970",
         "U191",
         "2018-05-03 07:00:00",
         "0.9289",
         "0.9289"
        ],
        [
         "25291532",
         "U171",
         "2018-02-08 18:45:00",
         "1.7369",
         "1.7369"
        ],
        [
         "19714102",
         "U133",
         "2020-08-05 11:15:00",
         null,
         "1.2484820561664791"
        ],
        [
         "25775697",
         "U175",
         "2018-09-30 17:15:00",
         "10.5949",
         "10.5949"
        ],
        [
         "31961914",
         "U220",
         "2021-07-11 12:45:00",
         "26.6653",
         "26.6653"
        ],
        [
         "19592679",
         "U132",
         "2021-05-03 15:15:00",
         "2.6891",
         "2.6891"
        ],
        [
         "21588853",
         "U147",
         "2017-09-05 22:30:00",
         "993.2442",
         "993.2442"
        ]
       ],
       "shape": {
        "columns": 4,
        "rows": 10
       }
      },
      "text/html": [
       "<div>\n",
       "<style scoped>\n",
       "    .dataframe tbody tr th:only-of-type {\n",
       "        vertical-align: middle;\n",
       "    }\n",
       "\n",
       "    .dataframe tbody tr th {\n",
       "        vertical-align: top;\n",
       "    }\n",
       "\n",
       "    .dataframe thead th {\n",
       "        text-align: right;\n",
       "    }\n",
       "</style>\n",
       "<table border=\"1\" class=\"dataframe\">\n",
       "  <thead>\n",
       "    <tr style=\"text-align: right;\">\n",
       "      <th></th>\n",
       "      <th>User</th>\n",
       "      <th>Time</th>\n",
       "      <th>Energy_cons [kWh]</th>\n",
       "      <th>Energy_cons_interpolated</th>\n",
       "    </tr>\n",
       "  </thead>\n",
       "  <tbody>\n",
       "    <tr>\n",
       "      <th>21282683</th>\n",
       "      <td>U144</td>\n",
       "      <td>2016-06-06 04:30:00</td>\n",
       "      <td>2.5963</td>\n",
       "      <td>2.596300</td>\n",
       "    </tr>\n",
       "    <tr>\n",
       "      <th>11267169</th>\n",
       "      <td>U73</td>\n",
       "      <td>2019-02-15 15:30:00</td>\n",
       "      <td>1.1227</td>\n",
       "      <td>1.122700</td>\n",
       "    </tr>\n",
       "    <tr>\n",
       "      <th>12383004</th>\n",
       "      <td>U80</td>\n",
       "      <td>2021-04-23 02:45:00</td>\n",
       "      <td>28.4607</td>\n",
       "      <td>28.460700</td>\n",
       "    </tr>\n",
       "    <tr>\n",
       "      <th>27758970</th>\n",
       "      <td>U191</td>\n",
       "      <td>2018-05-03 07:00:00</td>\n",
       "      <td>0.9289</td>\n",
       "      <td>0.928900</td>\n",
       "    </tr>\n",
       "    <tr>\n",
       "      <th>25291532</th>\n",
       "      <td>U171</td>\n",
       "      <td>2018-02-08 18:45:00</td>\n",
       "      <td>1.7369</td>\n",
       "      <td>1.736900</td>\n",
       "    </tr>\n",
       "    <tr>\n",
       "      <th>19714102</th>\n",
       "      <td>U133</td>\n",
       "      <td>2020-08-05 11:15:00</td>\n",
       "      <td>NaN</td>\n",
       "      <td>1.248482</td>\n",
       "    </tr>\n",
       "    <tr>\n",
       "      <th>25775697</th>\n",
       "      <td>U175</td>\n",
       "      <td>2018-09-30 17:15:00</td>\n",
       "      <td>10.5949</td>\n",
       "      <td>10.594900</td>\n",
       "    </tr>\n",
       "    <tr>\n",
       "      <th>31961914</th>\n",
       "      <td>U220</td>\n",
       "      <td>2021-07-11 12:45:00</td>\n",
       "      <td>26.6653</td>\n",
       "      <td>26.665300</td>\n",
       "    </tr>\n",
       "    <tr>\n",
       "      <th>19592679</th>\n",
       "      <td>U132</td>\n",
       "      <td>2021-05-03 15:15:00</td>\n",
       "      <td>2.6891</td>\n",
       "      <td>2.689100</td>\n",
       "    </tr>\n",
       "    <tr>\n",
       "      <th>21588853</th>\n",
       "      <td>U147</td>\n",
       "      <td>2017-09-05 22:30:00</td>\n",
       "      <td>993.2442</td>\n",
       "      <td>993.244200</td>\n",
       "    </tr>\n",
       "  </tbody>\n",
       "</table>\n",
       "</div>"
      ],
      "text/plain": [
       "          User                 Time  Energy_cons [kWh]  \\\n",
       "21282683  U144  2016-06-06 04:30:00             2.5963   \n",
       "11267169   U73  2019-02-15 15:30:00             1.1227   \n",
       "12383004   U80  2021-04-23 02:45:00            28.4607   \n",
       "27758970  U191  2018-05-03 07:00:00             0.9289   \n",
       "25291532  U171  2018-02-08 18:45:00             1.7369   \n",
       "19714102  U133  2020-08-05 11:15:00                NaN   \n",
       "25775697  U175  2018-09-30 17:15:00            10.5949   \n",
       "31961914  U220  2021-07-11 12:45:00            26.6653   \n",
       "19592679  U132  2021-05-03 15:15:00             2.6891   \n",
       "21588853  U147  2017-09-05 22:30:00           993.2442   \n",
       "\n",
       "          Energy_cons_interpolated  \n",
       "21282683                  2.596300  \n",
       "11267169                  1.122700  \n",
       "12383004                 28.460700  \n",
       "27758970                  0.928900  \n",
       "25291532                  1.736900  \n",
       "19714102                  1.248482  \n",
       "25775697                 10.594900  \n",
       "31961914                 26.665300  \n",
       "19592679                  2.689100  \n",
       "21588853                993.244200  "
      ]
     },
     "execution_count": 102,
     "metadata": {},
     "output_type": "execute_result"
    }
   ],
   "source": [
    "# 4. Verification\n",
    "print(\"Before interpolation:\")\n",
    "print(f\"Zero count: {(raw_consumption_C['Energy_cons [kWh]'] == 0).sum()}\")\n",
    "print(f\"NaN count: {raw_consumption_C['Energy_cons [kWh]'].isna().sum()}\")\n",
    "zero_counts_before = (raw_consumption_C['Energy_cons [kWh]'] == 0).sum()\n",
    "\n",
    "print(\"\\nAfter interpolation:\")\n",
    "print(f\"NaN count: {raw_consumption_C_0_fill['Energy_cons_interpolated'].isna().sum()}\")\n",
    "\n",
    "zero_counts_after = (raw_consumption_C_0_fill['Energy_cons [kWh]'] == 0).sum()\n",
    "print(f\"Number of 0 values in Energy_cons [kWh] AFTER manipulation: {zero_counts_after}\")\n",
    "# Calculate how many were excluded\n",
    "zeros_excluded = zero_counts_before - zero_counts_after\n",
    "print(f\"\\nNumber of 0 values excluded: {zeros_excluded}\")\n",
    "\n",
    "print(\"\\nSample rows:\")\n",
    "raw_consumption_C_0_fill.sample(10)[['User', 'Time', 'Energy_cons [kWh]', 'Energy_cons_interpolated']]\n",
    "\n"
   ]
  },
  {
   "cell_type": "code",
   "execution_count": 103,
   "id": "cc3e171f",
   "metadata": {},
   "outputs": [
    {
     "name": "stdout",
     "output_type": "stream",
     "text": [
      "NaN count: 7872886\n"
     ]
    },
    {
     "data": {
      "application/vnd.microsoft.datawrangler.viewer.v0+json": {
       "columns": [
        {
         "name": "index",
         "rawType": "object",
         "type": "string"
        },
        {
         "name": "0",
         "rawType": "int64",
         "type": "integer"
        }
       ],
       "ref": "26adbc64-96a2-484f-8108-a3e95cc74834",
       "rows": [
        [
         "Time",
         "0"
        ],
        [
         "Energy_cons [kWh]",
         "0"
        ],
        [
         "User",
         "0"
        ],
        [
         "Section",
         "0"
        ],
        [
         "Division Code",
         "0"
        ],
        [
         "Division Name",
         "0"
        ],
        [
         "Energy_cons_interpolated",
         "0"
        ]
       ],
       "shape": {
        "columns": 1,
        "rows": 7
       }
      },
      "text/plain": [
       "Time                        0\n",
       "Energy_cons [kWh]           0\n",
       "User                        0\n",
       "Section                     0\n",
       "Division Code               0\n",
       "Division Name               0\n",
       "Energy_cons_interpolated    0\n",
       "dtype: int64"
      ]
     },
     "execution_count": 103,
     "metadata": {},
     "output_type": "execute_result"
    }
   ],
   "source": [
    "print(f\"NaN count: {raw_consumption_C_0_fill['Energy_cons [kWh]'].isna().sum()}\")\n",
    "zero_counts_C_0_fill = (raw_consumption_C_0_fill == 0).sum()\n",
    "zero_counts_C_0_fill"
   ]
  },
  {
   "cell_type": "code",
   "execution_count": 104,
   "id": "4d5a21f4",
   "metadata": {},
   "outputs": [
    {
     "data": {
      "application/vnd.microsoft.datawrangler.viewer.v0+json": {
       "columns": [
        {
         "name": "index",
         "rawType": "int64",
         "type": "integer"
        },
        {
         "name": "Time",
         "rawType": "object",
         "type": "string"
        },
        {
         "name": "Energy_cons [kWh]",
         "rawType": "float64",
         "type": "float"
        },
        {
         "name": "User",
         "rawType": "object",
         "type": "string"
        },
        {
         "name": "Section",
         "rawType": "object",
         "type": "string"
        },
        {
         "name": "Division Code",
         "rawType": "object",
         "type": "string"
        },
        {
         "name": "Division Name",
         "rawType": "object",
         "type": "string"
        },
        {
         "name": "Energy_cons_interpolated",
         "rawType": "float64",
         "type": "float"
        }
       ],
       "ref": "f3bd3d75-071b-4182-9272-32ae8a9b18d5",
       "rows": [
        [
         "1536781",
         "2017-06-04 00:15:00",
         "1.8156",
         "U11",
         "C",
         "10",
         "Manufacture of food products",
         "1.8156"
        ],
        [
         "1536782",
         "2017-06-04 00:30:00",
         "1.8156",
         "U11",
         "C",
         "10",
         "Manufacture of food products",
         "1.8156"
        ],
        [
         "1536783",
         "2017-06-04 00:45:00",
         "1.8156",
         "U11",
         "C",
         "10",
         "Manufacture of food products",
         "1.8156"
        ],
        [
         "1536784",
         "2017-06-04 01:00:00",
         "1.8156",
         "U11",
         "C",
         "10",
         "Manufacture of food products",
         "1.8156"
        ],
        [
         "1536785",
         "2017-06-04 01:15:00",
         "2.514",
         "U11",
         "C",
         "10",
         "Manufacture of food products",
         "2.514"
        ]
       ],
       "shape": {
        "columns": 7,
        "rows": 5
       }
      },
      "text/html": [
       "<div>\n",
       "<style scoped>\n",
       "    .dataframe tbody tr th:only-of-type {\n",
       "        vertical-align: middle;\n",
       "    }\n",
       "\n",
       "    .dataframe tbody tr th {\n",
       "        vertical-align: top;\n",
       "    }\n",
       "\n",
       "    .dataframe thead th {\n",
       "        text-align: right;\n",
       "    }\n",
       "</style>\n",
       "<table border=\"1\" class=\"dataframe\">\n",
       "  <thead>\n",
       "    <tr style=\"text-align: right;\">\n",
       "      <th></th>\n",
       "      <th>Time</th>\n",
       "      <th>Energy_cons [kWh]</th>\n",
       "      <th>User</th>\n",
       "      <th>Section</th>\n",
       "      <th>Division Code</th>\n",
       "      <th>Division Name</th>\n",
       "      <th>Energy_cons_interpolated</th>\n",
       "    </tr>\n",
       "  </thead>\n",
       "  <tbody>\n",
       "    <tr>\n",
       "      <th>1536781</th>\n",
       "      <td>2017-06-04 00:15:00</td>\n",
       "      <td>1.8156</td>\n",
       "      <td>U11</td>\n",
       "      <td>C</td>\n",
       "      <td>10</td>\n",
       "      <td>Manufacture of food products</td>\n",
       "      <td>1.8156</td>\n",
       "    </tr>\n",
       "    <tr>\n",
       "      <th>1536782</th>\n",
       "      <td>2017-06-04 00:30:00</td>\n",
       "      <td>1.8156</td>\n",
       "      <td>U11</td>\n",
       "      <td>C</td>\n",
       "      <td>10</td>\n",
       "      <td>Manufacture of food products</td>\n",
       "      <td>1.8156</td>\n",
       "    </tr>\n",
       "    <tr>\n",
       "      <th>1536783</th>\n",
       "      <td>2017-06-04 00:45:00</td>\n",
       "      <td>1.8156</td>\n",
       "      <td>U11</td>\n",
       "      <td>C</td>\n",
       "      <td>10</td>\n",
       "      <td>Manufacture of food products</td>\n",
       "      <td>1.8156</td>\n",
       "    </tr>\n",
       "    <tr>\n",
       "      <th>1536784</th>\n",
       "      <td>2017-06-04 01:00:00</td>\n",
       "      <td>1.8156</td>\n",
       "      <td>U11</td>\n",
       "      <td>C</td>\n",
       "      <td>10</td>\n",
       "      <td>Manufacture of food products</td>\n",
       "      <td>1.8156</td>\n",
       "    </tr>\n",
       "    <tr>\n",
       "      <th>1536785</th>\n",
       "      <td>2017-06-04 01:15:00</td>\n",
       "      <td>2.5140</td>\n",
       "      <td>U11</td>\n",
       "      <td>C</td>\n",
       "      <td>10</td>\n",
       "      <td>Manufacture of food products</td>\n",
       "      <td>2.5140</td>\n",
       "    </tr>\n",
       "  </tbody>\n",
       "</table>\n",
       "</div>"
      ],
      "text/plain": [
       "                        Time  Energy_cons [kWh] User Section Division Code  \\\n",
       "1536781  2017-06-04 00:15:00             1.8156  U11       C            10   \n",
       "1536782  2017-06-04 00:30:00             1.8156  U11       C            10   \n",
       "1536783  2017-06-04 00:45:00             1.8156  U11       C            10   \n",
       "1536784  2017-06-04 01:00:00             1.8156  U11       C            10   \n",
       "1536785  2017-06-04 01:15:00             2.5140  U11       C            10   \n",
       "\n",
       "                        Division Name  Energy_cons_interpolated  \n",
       "1536781  Manufacture of food products                    1.8156  \n",
       "1536782  Manufacture of food products                    1.8156  \n",
       "1536783  Manufacture of food products                    1.8156  \n",
       "1536784  Manufacture of food products                    1.8156  \n",
       "1536785  Manufacture of food products                    2.5140  "
      ]
     },
     "execution_count": 104,
     "metadata": {},
     "output_type": "execute_result"
    }
   ],
   "source": [
    "raw_consumption_C_0_fill.head()\n"
   ]
  },
  {
   "cell_type": "code",
   "execution_count": 106,
   "id": "83e7c688",
   "metadata": {},
   "outputs": [
    {
     "name": "stdout",
     "output_type": "stream",
     "text": [
      "Original Energy_cons [kWh]:\n",
      "count    2.740572e+07\n",
      "mean     1.023398e+02\n",
      "std      2.866657e+02\n",
      "min      4.992669e-05\n",
      "25%      5.205700e+00\n",
      "50%      2.454660e+01\n",
      "75%      7.604610e+01\n",
      "max      7.977196e+03\n",
      "Name: Energy_cons [kWh], dtype: float64\n",
      "\n",
      "Interpolated Energy_cons_interpolated:\n",
      "count    3.527860e+07\n",
      "mean     9.664757e+01\n",
      "std      2.715120e+02\n",
      "min      4.992669e-05\n",
      "25%      5.599400e+00\n",
      "50%      2.501150e+01\n",
      "75%      7.169220e+01\n",
      "max      7.977196e+03\n",
      "Name: Energy_cons_interpolated, dtype: float64\n"
     ]
    }
   ],
   "source": [
    "print(\"Original Energy_cons [kWh]:\")\n",
    "print(raw_consumption_C_0_fill['Energy_cons [kWh]'].describe())\n",
    "\n",
    "print(\"\\nInterpolated Energy_cons_interpolated:\")\n",
    "print(raw_consumption_C_0_fill['Energy_cons_interpolated'].describe())"
   ]
  },
  {
   "cell_type": "code",
   "execution_count": 107,
   "id": "1184c51f",
   "metadata": {},
   "outputs": [
    {
     "data": {
      "image/png": "[encoded data removed]",
      "text/plain": [
       "<Figure size 1400x700 with 1 Axes>"
      ]
     },
     "metadata": {},
     "output_type": "display_data"
    }
   ],
   "source": [
    "import matplotlib.pyplot as plt\n",
    "\n",
    "# Create figure\n",
    "plt.figure(figsize=(14, 7))\n",
    "\n",
    "# Sample data (same random sample for both)\n",
    "sample = raw_consumption_C_0_fill.sample(1000).sort_index()\n",
    "\n",
    "# Plot RAW data (red)\n",
    "plt.plot(sample.index, \n",
    "         sample['Energy_cons [kWh]'], \n",
    "         color='red', \n",
    "         alpha=0.7,\n",
    "         linewidth=1,\n",
    "         label='Raw Values')\n",
    "\n",
    "# Plot INTERPOLATED data (blue)\n",
    "plt.plot(sample.index, \n",
    "         sample['Energy_cons_interpolated'], \n",
    "         color='blue',\n",
    "         alpha=0.7, \n",
    "         linewidth=1,\n",
    "         label='Interpolated Values')\n",
    "\n",
    "# Customize plot\n",
    "plt.title('Raw vs. Interpolated Energy Consumption\\n(Red = Raw, Blue = Interpolated)')\n",
    "plt.xlabel('Time/Index')\n",
    "plt.ylabel('Energy [kWh]')\n",
    "plt.legend()\n",
    "plt.grid(True)\n",
    "\n",
    "# Add zero-line reference\n",
    "plt.axhline(0, color='black', linestyle='--', alpha=0.3)\n",
    "\n",
    "plt.show()"
   ]
  },
  {
   "cell_type": "code",
   "execution_count": 108,
   "id": "bc3dda99",
   "metadata": {},
   "outputs": [
    {
     "name": "stdout",
     "output_type": "stream",
     "text": [
      "Available styles: ['Solarize_Light2', '_classic_test_patch', '_mpl-gallery', '_mpl-gallery-nogrid', 'bmh', 'classic', 'dark_background', 'fast', 'fivethirtyeight', 'ggplot', 'grayscale', 'petroff10', 'seaborn-v0_8', 'seaborn-v0_8-bright', 'seaborn-v0_8-colorblind', 'seaborn-v0_8-dark', 'seaborn-v0_8-dark-palette', 'seaborn-v0_8-darkgrid', 'seaborn-v0_8-deep', 'seaborn-v0_8-muted', 'seaborn-v0_8-notebook', 'seaborn-v0_8-paper', 'seaborn-v0_8-pastel', 'seaborn-v0_8-poster', 'seaborn-v0_8-talk', 'seaborn-v0_8-ticks', 'seaborn-v0_8-white', 'seaborn-v0_8-whitegrid', 'tableau-colorblind10']\n"
     ]
    },
    {
     "data": {
      "image/png": "[encoded data removed]",
      "text/plain": [
       "<Figure size 1400x600 with 1 Axes>"
      ]
     },
     "metadata": {},
     "output_type": "display_data"
    },
    {
     "data": {
      "image/png": "[encoded data removed]",
      "text/plain": [
       "<Figure size 1400x600 with 1 Axes>"
      ]
     },
     "metadata": {},
     "output_type": "display_data"
    }
   ],
   "source": [
    "import matplotlib.pyplot as plt\n",
    "\n",
    "# Set a valid style (check available styles first)\n",
    "print(\"Available styles:\", plt.style.available)\n",
    "plt.style.use('ggplot')  # Using ggplot style as it's widely available\n",
    "\n",
    "# Sample data - ensure consistent sampling\n",
    "sample_size = min(2000, len(raw_consumption_C_0_fill))\n",
    "plot_data = raw_consumption_C_0_fill.sample(sample_size, random_state=1).sort_index()\n",
    "\n",
    "# Chart 1: Raw Energy Consumption\n",
    "plt.figure(figsize=(14, 6))\n",
    "plt.plot(plot_data.index, \n",
    "         plot_data['Energy_cons [kWh]'],\n",
    "         color='red',\n",
    "         alpha=0.7,\n",
    "         linewidth=1.5,\n",
    "         label='Raw Values')\n",
    "plt.title('Raw Energy Consumption (with Zeros/NaNs)', fontsize=14)\n",
    "plt.xlabel('Time/Index', fontsize=12)\n",
    "plt.ylabel('Energy [kWh]', fontsize=12)  # This line is now complete\n",
    "plt.legend(fontsize=12)\n",
    "plt.grid(True, alpha=0.3)\n",
    "plt.tight_layout()\n",
    "plt.show()\n",
    "\n",
    "# Chart 2: Interpolated Energy Consumption\n",
    "plt.figure(figsize=(14, 6))\n",
    "plt.plot(plot_data.index,\n",
    "         plot_data['Energy_cons_interpolated'],\n",
    "         color='blue',\n",
    "         alpha=0.7,\n",
    "         linewidth=1.5,\n",
    "         label='Interpolated Values')\n",
    "plt.title('Interpolated Energy Consumption', fontsize=14)\n",
    "plt.xlabel('Time/Index', fontsize=12)\n",
    "plt.ylabel('Energy [kWh]', fontsize=12)  # Complete line\n",
    "plt.legend(fontsize=12)\n",
    "plt.grid(True, alpha=0.3)\n",
    "plt.tight_layout()\n",
    "plt.show()"
   ]
  },
  {
   "cell_type": "markdown",
   "id": "fd00afc2",
   "metadata": {},
   "source": [
    "## STEP 6 Week day, month addition\n",
    "consumption_C"
   ]
  },
  {
   "cell_type": "code",
   "execution_count": 137,
   "id": "20035f27",
   "metadata": {},
   "outputs": [],
   "source": [
    "consumption_C = raw_consumption_C_0_fill.copy()"
   ]
  },
  {
   "cell_type": "code",
   "execution_count": 139,
   "id": "1c10f32d",
   "metadata": {},
   "outputs": [],
   "source": [
    "# Rename the columns\n",
    "consumption_C = consumption_C.rename(\n",
    "    columns={\n",
    "        'Energy_cons_interpolated': 'Energy_int [kWh]', \n",
    "        'Energy_cons [kWh]': 'Energy_raw [kWh]',\n",
    "    }\n",
    ")"
   ]
  },
  {
   "cell_type": "code",
   "execution_count": 140,
   "id": "327d1134",
   "metadata": {},
   "outputs": [
    {
     "data": {
      "application/vnd.microsoft.datawrangler.viewer.v0+json": {
       "columns": [
        {
         "name": "index",
         "rawType": "int64",
         "type": "integer"
        },
        {
         "name": "Time",
         "rawType": "object",
         "type": "string"
        },
        {
         "name": "Energy_raw [kWh]",
         "rawType": "float64",
         "type": "float"
        },
        {
         "name": "User",
         "rawType": "object",
         "type": "string"
        },
        {
         "name": "Section",
         "rawType": "object",
         "type": "string"
        },
        {
         "name": "Division Code",
         "rawType": "object",
         "type": "string"
        },
        {
         "name": "Division Name",
         "rawType": "object",
         "type": "string"
        },
        {
         "name": "Energy_int [kWh]",
         "rawType": "float64",
         "type": "float"
        }
       ],
       "ref": "c30bce2a-5e28-42a7-ac2a-70636263bfe3",
       "rows": [
        [
         "1536781",
         "2017-06-04 00:15:00",
         "1.8156",
         "U11",
         "C",
         "10",
         "Manufacture of food products",
         "1.8156"
        ],
        [
         "1536782",
         "2017-06-04 00:30:00",
         "1.8156",
         "U11",
         "C",
         "10",
         "Manufacture of food products",
         "1.8156"
        ],
        [
         "1536783",
         "2017-06-04 00:45:00",
         "1.8156",
         "U11",
         "C",
         "10",
         "Manufacture of food products",
         "1.8156"
        ],
        [
         "1536784",
         "2017-06-04 01:00:00",
         "1.8156",
         "U11",
         "C",
         "10",
         "Manufacture of food products",
         "1.8156"
        ],
        [
         "1536785",
         "2017-06-04 01:15:00",
         "2.514",
         "U11",
         "C",
         "10",
         "Manufacture of food products",
         "2.514"
        ],
        [
         "1536786",
         "2017-06-04 01:30:00",
         "3.771",
         "U11",
         "C",
         "10",
         "Manufacture of food products",
         "3.771"
        ],
        [
         "1536787",
         "2017-06-04 01:45:00",
         "1.5363",
         "U11",
         "C",
         "10",
         "Manufacture of food products",
         "1.5363"
        ],
        [
         "1536788",
         "2017-06-04 02:00:00",
         "1.5363",
         "U11",
         "C",
         "10",
         "Manufacture of food products",
         "1.5363"
        ],
        [
         "1536789",
         "2017-06-04 02:15:00",
         "1.5363",
         "U11",
         "C",
         "10",
         "Manufacture of food products",
         "1.5363"
        ],
        [
         "1536790",
         "2017-06-04 02:30:00",
         "1.5363",
         "U11",
         "C",
         "10",
         "Manufacture of food products",
         "1.5363"
        ],
        [
         "1536791",
         "2017-06-04 02:45:00",
         "1.3966",
         "U11",
         "C",
         "10",
         "Manufacture of food products",
         "1.3966"
        ],
        [
         "1536792",
         "2017-06-04 03:00:00",
         "3.771",
         "U11",
         "C",
         "10",
         "Manufacture of food products",
         "3.771"
        ],
        [
         "1536793",
         "2017-06-04 03:15:00",
         "2.2346",
         "U11",
         "C",
         "10",
         "Manufacture of food products",
         "2.2346"
        ],
        [
         "1536794",
         "2017-06-04 03:30:00",
         "1.5363",
         "U11",
         "C",
         "10",
         "Manufacture of food products",
         "1.5363"
        ],
        [
         "1536795",
         "2017-06-04 03:45:00",
         "1.5363",
         "U11",
         "C",
         "10",
         "Manufacture of food products",
         "1.5363"
        ],
        [
         "1536796",
         "2017-06-04 04:00:00",
         "1.5363",
         "U11",
         "C",
         "10",
         "Manufacture of food products",
         "1.5363"
        ],
        [
         "1536797",
         "2017-06-04 04:15:00",
         "1.3966",
         "U11",
         "C",
         "10",
         "Manufacture of food products",
         "1.3966"
        ],
        [
         "1536798",
         "2017-06-04 04:30:00",
         "1.676",
         "U11",
         "C",
         "10",
         "Manufacture of food products",
         "1.676"
        ],
        [
         "1536799",
         "2017-06-04 04:45:00",
         "4.3296",
         "U11",
         "C",
         "10",
         "Manufacture of food products",
         "4.3296"
        ],
        [
         "1536800",
         "2017-06-04 05:00:00",
         "1.5363",
         "U11",
         "C",
         "10",
         "Manufacture of food products",
         "1.5363"
        ],
        [
         "1536801",
         "2017-06-04 05:15:00",
         "1.5363",
         "U11",
         "C",
         "10",
         "Manufacture of food products",
         "1.5363"
        ],
        [
         "1536802",
         "2017-06-04 05:30:00",
         "1.5363",
         "U11",
         "C",
         "10",
         "Manufacture of food products",
         "1.5363"
        ],
        [
         "1536803",
         "2017-06-04 05:45:00",
         "1.5363",
         "U11",
         "C",
         "10",
         "Manufacture of food products",
         "1.5363"
        ],
        [
         "1536804",
         "2017-06-04 06:00:00",
         "1.5363",
         "U11",
         "C",
         "10",
         "Manufacture of food products",
         "1.5363"
        ],
        [
         "1536805",
         "2017-06-04 06:15:00",
         "2.6536",
         "U11",
         "C",
         "10",
         "Manufacture of food products",
         "2.6536"
        ],
        [
         "1536806",
         "2017-06-04 06:30:00",
         "3.2123",
         "U11",
         "C",
         "10",
         "Manufacture of food products",
         "3.2123"
        ],
        [
         "1536807",
         "2017-06-04 06:45:00",
         "1.5363",
         "U11",
         "C",
         "10",
         "Manufacture of food products",
         "1.5363"
        ],
        [
         "1536808",
         "2017-06-04 07:00:00",
         "1.676",
         "U11",
         "C",
         "10",
         "Manufacture of food products",
         "1.676"
        ],
        [
         "1536809",
         "2017-06-04 07:15:00",
         "1.3966",
         "U11",
         "C",
         "10",
         "Manufacture of food products",
         "1.3966"
        ],
        [
         "1536810",
         "2017-06-04 07:30:00",
         "2.095",
         "U11",
         "C",
         "10",
         "Manufacture of food products",
         "2.095"
        ],
        [
         "1536811",
         "2017-06-04 07:45:00",
         "2.3743",
         "U11",
         "C",
         "10",
         "Manufacture of food products",
         "2.3743"
        ],
        [
         "1536812",
         "2017-06-04 08:00:00",
         "5.1676",
         "U11",
         "C",
         "10",
         "Manufacture of food products",
         "5.1676"
        ],
        [
         "1536813",
         "2017-06-04 08:15:00",
         "1.676",
         "U11",
         "C",
         "10",
         "Manufacture of food products",
         "1.676"
        ],
        [
         "1536814",
         "2017-06-04 08:30:00",
         "1.3966",
         "U11",
         "C",
         "10",
         "Manufacture of food products",
         "1.3966"
        ],
        [
         "1536815",
         "2017-06-04 08:45:00",
         "1.3966",
         "U11",
         "C",
         "10",
         "Manufacture of food products",
         "1.3966"
        ],
        [
         "1536816",
         "2017-06-04 09:00:00",
         "1.3966",
         "U11",
         "C",
         "10",
         "Manufacture of food products",
         "1.3966"
        ],
        [
         "1536817",
         "2017-06-04 09:15:00",
         "1.5363",
         "U11",
         "C",
         "10",
         "Manufacture of food products",
         "1.5363"
        ],
        [
         "1536818",
         "2017-06-04 09:30:00",
         "2.2346",
         "U11",
         "C",
         "10",
         "Manufacture of food products",
         "2.2346"
        ],
        [
         "1536819",
         "2017-06-04 09:45:00",
         "3.771",
         "U11",
         "C",
         "10",
         "Manufacture of food products",
         "3.771"
        ],
        [
         "1536820",
         "2017-06-04 10:00:00",
         "1.5363",
         "U11",
         "C",
         "10",
         "Manufacture of food products",
         "1.5363"
        ],
        [
         "1536821",
         "2017-06-04 10:15:00",
         "1.5363",
         "U11",
         "C",
         "10",
         "Manufacture of food products",
         "1.5363"
        ],
        [
         "1536822",
         "2017-06-04 10:30:00",
         "1.3966",
         "U11",
         "C",
         "10",
         "Manufacture of food products",
         "1.3966"
        ],
        [
         "1536823",
         "2017-06-04 10:45:00",
         "1.5363",
         "U11",
         "C",
         "10",
         "Manufacture of food products",
         "1.5363"
        ],
        [
         "1536824",
         "2017-06-04 11:00:00",
         "1.3966",
         "U11",
         "C",
         "10",
         "Manufacture of food products",
         "1.3966"
        ],
        [
         "1536825",
         "2017-06-04 11:15:00",
         "2.9330000000000003",
         "U11",
         "C",
         "10",
         "Manufacture of food products",
         "2.9330000000000003"
        ],
        [
         "1536826",
         "2017-06-04 11:30:00",
         "3.4916",
         "U11",
         "C",
         "10",
         "Manufacture of food products",
         "3.4916"
        ],
        [
         "1536827",
         "2017-06-04 11:45:00",
         "1.5363",
         "U11",
         "C",
         "10",
         "Manufacture of food products",
         "1.5363"
        ],
        [
         "1536828",
         "2017-06-04 12:00:00",
         "1.3966",
         "U11",
         "C",
         "10",
         "Manufacture of food products",
         "1.3966"
        ],
        [
         "1536829",
         "2017-06-04 12:15:00",
         "2.2346",
         "U11",
         "C",
         "10",
         "Manufacture of food products",
         "2.2346"
        ],
        [
         "1536830",
         "2017-06-04 12:30:00",
         "2.2346",
         "U11",
         "C",
         "10",
         "Manufacture of food products",
         "2.2346"
        ]
       ],
       "shape": {
        "columns": 7,
        "rows": 35278605
       }
      },
      "text/html": [
       "<div>\n",
       "<style scoped>\n",
       "    .dataframe tbody tr th:only-of-type {\n",
       "        vertical-align: middle;\n",
       "    }\n",
       "\n",
       "    .dataframe tbody tr th {\n",
       "        vertical-align: top;\n",
       "    }\n",
       "\n",
       "    .dataframe thead th {\n",
       "        text-align: right;\n",
       "    }\n",
       "</style>\n",
       "<table border=\"1\" class=\"dataframe\">\n",
       "  <thead>\n",
       "    <tr style=\"text-align: right;\">\n",
       "      <th></th>\n",
       "      <th>Time</th>\n",
       "      <th>Energy_raw [kWh]</th>\n",
       "      <th>User</th>\n",
       "      <th>Section</th>\n",
       "      <th>Division Code</th>\n",
       "      <th>Division Name</th>\n",
       "      <th>Energy_int [kWh]</th>\n",
       "    </tr>\n",
       "  </thead>\n",
       "  <tbody>\n",
       "    <tr>\n",
       "      <th>1536781</th>\n",
       "      <td>2017-06-04 00:15:00</td>\n",
       "      <td>1.8156</td>\n",
       "      <td>U11</td>\n",
       "      <td>C</td>\n",
       "      <td>10</td>\n",
       "      <td>Manufacture of food products</td>\n",
       "      <td>1.8156</td>\n",
       "    </tr>\n",
       "    <tr>\n",
       "      <th>1536782</th>\n",
       "      <td>2017-06-04 00:30:00</td>\n",
       "      <td>1.8156</td>\n",
       "      <td>U11</td>\n",
       "      <td>C</td>\n",
       "      <td>10</td>\n",
       "      <td>Manufacture of food products</td>\n",
       "      <td>1.8156</td>\n",
       "    </tr>\n",
       "    <tr>\n",
       "      <th>1536783</th>\n",
       "      <td>2017-06-04 00:45:00</td>\n",
       "      <td>1.8156</td>\n",
       "      <td>U11</td>\n",
       "      <td>C</td>\n",
       "      <td>10</td>\n",
       "      <td>Manufacture of food products</td>\n",
       "      <td>1.8156</td>\n",
       "    </tr>\n",
       "    <tr>\n",
       "      <th>1536784</th>\n",
       "      <td>2017-06-04 01:00:00</td>\n",
       "      <td>1.8156</td>\n",
       "      <td>U11</td>\n",
       "      <td>C</td>\n",
       "      <td>10</td>\n",
       "      <td>Manufacture of food products</td>\n",
       "      <td>1.8156</td>\n",
       "    </tr>\n",
       "    <tr>\n",
       "      <th>1536785</th>\n",
       "      <td>2017-06-04 01:15:00</td>\n",
       "      <td>2.5140</td>\n",
       "      <td>U11</td>\n",
       "      <td>C</td>\n",
       "      <td>10</td>\n",
       "      <td>Manufacture of food products</td>\n",
       "      <td>2.5140</td>\n",
       "    </tr>\n",
       "    <tr>\n",
       "      <th>...</th>\n",
       "      <td>...</td>\n",
       "      <td>...</td>\n",
       "      <td>...</td>\n",
       "      <td>...</td>\n",
       "      <td>...</td>\n",
       "      <td>...</td>\n",
       "      <td>...</td>\n",
       "    </tr>\n",
       "    <tr>\n",
       "      <th>37748213</th>\n",
       "      <td>2019-05-17 14:00:00</td>\n",
       "      <td>19.3786</td>\n",
       "      <td>U255</td>\n",
       "      <td>C</td>\n",
       "      <td>33</td>\n",
       "      <td>Repair and installation of machinery and equip...</td>\n",
       "      <td>19.3786</td>\n",
       "    </tr>\n",
       "    <tr>\n",
       "      <th>37748214</th>\n",
       "      <td>2019-05-17 14:15:00</td>\n",
       "      <td>16.9465</td>\n",
       "      <td>U255</td>\n",
       "      <td>C</td>\n",
       "      <td>33</td>\n",
       "      <td>Repair and installation of machinery and equip...</td>\n",
       "      <td>16.9465</td>\n",
       "    </tr>\n",
       "    <tr>\n",
       "      <th>37748215</th>\n",
       "      <td>2019-05-17 14:30:00</td>\n",
       "      <td>15.8481</td>\n",
       "      <td>U255</td>\n",
       "      <td>C</td>\n",
       "      <td>33</td>\n",
       "      <td>Repair and installation of machinery and equip...</td>\n",
       "      <td>15.8481</td>\n",
       "    </tr>\n",
       "    <tr>\n",
       "      <th>37748216</th>\n",
       "      <td>2019-05-17 14:45:00</td>\n",
       "      <td>16.0835</td>\n",
       "      <td>U255</td>\n",
       "      <td>C</td>\n",
       "      <td>33</td>\n",
       "      <td>Repair and installation of machinery and equip...</td>\n",
       "      <td>16.0835</td>\n",
       "    </tr>\n",
       "    <tr>\n",
       "      <th>37748217</th>\n",
       "      <td>2019-05-17 15:00:00</td>\n",
       "      <td>15.2989</td>\n",
       "      <td>U255</td>\n",
       "      <td>C</td>\n",
       "      <td>33</td>\n",
       "      <td>Repair and installation of machinery and equip...</td>\n",
       "      <td>15.2989</td>\n",
       "    </tr>\n",
       "  </tbody>\n",
       "</table>\n",
       "<p>35278605 rows × 7 columns</p>\n",
       "</div>"
      ],
      "text/plain": [
       "                         Time  Energy_raw [kWh]  User Section Division Code  \\\n",
       "1536781   2017-06-04 00:15:00            1.8156   U11       C            10   \n",
       "1536782   2017-06-04 00:30:00            1.8156   U11       C            10   \n",
       "1536783   2017-06-04 00:45:00            1.8156   U11       C            10   \n",
       "1536784   2017-06-04 01:00:00            1.8156   U11       C            10   \n",
       "1536785   2017-06-04 01:15:00            2.5140   U11       C            10   \n",
       "...                       ...               ...   ...     ...           ...   \n",
       "37748213  2019-05-17 14:00:00           19.3786  U255       C            33   \n",
       "37748214  2019-05-17 14:15:00           16.9465  U255       C            33   \n",
       "37748215  2019-05-17 14:30:00           15.8481  U255       C            33   \n",
       "37748216  2019-05-17 14:45:00           16.0835  U255       C            33   \n",
       "37748217  2019-05-17 15:00:00           15.2989  U255       C            33   \n",
       "\n",
       "                                              Division Name  Energy_int [kWh]  \n",
       "1536781                        Manufacture of food products            1.8156  \n",
       "1536782                        Manufacture of food products            1.8156  \n",
       "1536783                        Manufacture of food products            1.8156  \n",
       "1536784                        Manufacture of food products            1.8156  \n",
       "1536785                        Manufacture of food products            2.5140  \n",
       "...                                                     ...               ...  \n",
       "37748213  Repair and installation of machinery and equip...           19.3786  \n",
       "37748214  Repair and installation of machinery and equip...           16.9465  \n",
       "37748215  Repair and installation of machinery and equip...           15.8481  \n",
       "37748216  Repair and installation of machinery and equip...           16.0835  \n",
       "37748217  Repair and installation of machinery and equip...           15.2989  \n",
       "\n",
       "[35278605 rows x 7 columns]"
      ]
     },
     "execution_count": 140,
     "metadata": {},
     "output_type": "execute_result"
    }
   ],
   "source": [
    "consumption_C"
   ]
  },
  {
   "cell_type": "code",
   "execution_count": 141,
   "id": "f3bfcfbd",
   "metadata": {},
   "outputs": [
    {
     "data": {
      "application/vnd.microsoft.datawrangler.viewer.v0+json": {
       "columns": [
        {
         "name": "index",
         "rawType": "object",
         "type": "string"
        },
        {
         "name": "Energy_raw [kWh]",
         "rawType": "float64",
         "type": "float"
        },
        {
         "name": "Energy_int [kWh]",
         "rawType": "float64",
         "type": "float"
        }
       ],
       "ref": "ed7e0053-38be-441a-9d48-b1a485b302f0",
       "rows": [
        [
         "count",
         "27405719.0",
         "35278605.0"
        ],
        [
         "mean",
         "102.33982540738951",
         "96.64757296506941"
        ],
        [
         "std",
         "286.6657479483244",
         "271.51195728058855"
        ],
        [
         "min",
         "4.9926686217019456e-05",
         "4.9926686217019456e-05"
        ],
        [
         "25%",
         "5.2057",
         "5.5994"
        ],
        [
         "50%",
         "24.5466",
         "25.0115"
        ],
        [
         "75%",
         "76.0461",
         "71.6922"
        ],
        [
         "max",
         "7977.1961",
         "7977.1961"
        ]
       ],
       "shape": {
        "columns": 2,
        "rows": 8
       }
      },
      "text/html": [
       "<div>\n",
       "<style scoped>\n",
       "    .dataframe tbody tr th:only-of-type {\n",
       "        vertical-align: middle;\n",
       "    }\n",
       "\n",
       "    .dataframe tbody tr th {\n",
       "        vertical-align: top;\n",
       "    }\n",
       "\n",
       "    .dataframe thead th {\n",
       "        text-align: right;\n",
       "    }\n",
       "</style>\n",
       "<table border=\"1\" class=\"dataframe\">\n",
       "  <thead>\n",
       "    <tr style=\"text-align: right;\">\n",
       "      <th></th>\n",
       "      <th>Energy_raw [kWh]</th>\n",
       "      <th>Energy_int [kWh]</th>\n",
       "    </tr>\n",
       "  </thead>\n",
       "  <tbody>\n",
       "    <tr>\n",
       "      <th>count</th>\n",
       "      <td>2.740572e+07</td>\n",
       "      <td>3.527860e+07</td>\n",
       "    </tr>\n",
       "    <tr>\n",
       "      <th>mean</th>\n",
       "      <td>1.023398e+02</td>\n",
       "      <td>9.664757e+01</td>\n",
       "    </tr>\n",
       "    <tr>\n",
       "      <th>std</th>\n",
       "      <td>2.866657e+02</td>\n",
       "      <td>2.715120e+02</td>\n",
       "    </tr>\n",
       "    <tr>\n",
       "      <th>min</th>\n",
       "      <td>4.992669e-05</td>\n",
       "      <td>4.992669e-05</td>\n",
       "    </tr>\n",
       "    <tr>\n",
       "      <th>25%</th>\n",
       "      <td>5.205700e+00</td>\n",
       "      <td>5.599400e+00</td>\n",
       "    </tr>\n",
       "    <tr>\n",
       "      <th>50%</th>\n",
       "      <td>2.454660e+01</td>\n",
       "      <td>2.501150e+01</td>\n",
       "    </tr>\n",
       "    <tr>\n",
       "      <th>75%</th>\n",
       "      <td>7.604610e+01</td>\n",
       "      <td>7.169220e+01</td>\n",
       "    </tr>\n",
       "    <tr>\n",
       "      <th>max</th>\n",
       "      <td>7.977196e+03</td>\n",
       "      <td>7.977196e+03</td>\n",
       "    </tr>\n",
       "  </tbody>\n",
       "</table>\n",
       "</div>"
      ],
      "text/plain": [
       "       Energy_raw [kWh]  Energy_int [kWh]\n",
       "count      2.740572e+07      3.527860e+07\n",
       "mean       1.023398e+02      9.664757e+01\n",
       "std        2.866657e+02      2.715120e+02\n",
       "min        4.992669e-05      4.992669e-05\n",
       "25%        5.205700e+00      5.599400e+00\n",
       "50%        2.454660e+01      2.501150e+01\n",
       "75%        7.604610e+01      7.169220e+01\n",
       "max        7.977196e+03      7.977196e+03"
      ]
     },
     "execution_count": 141,
     "metadata": {},
     "output_type": "execute_result"
    }
   ],
   "source": [
    "consumption_C.describe()\n"
   ]
  },
  {
   "cell_type": "code",
   "execution_count": 144,
   "id": "5bb8af76",
   "metadata": {},
   "outputs": [],
   "source": [
    "consumption_C['Energy_raw [kWh]'] = consumption_C['Energy_raw [kWh]'].round(4)\n",
    "consumption_C['Energy_int [kWh]'] = consumption_C['Energy_int [kWh]'].round(4)"
   ]
  },
  {
   "cell_type": "code",
   "execution_count": 153,
   "id": "f8833282",
   "metadata": {},
   "outputs": [
    {
     "name": "stdout",
     "output_type": "stream",
     "text": [
      "\n",
      "Raw vs Interpolated Energy Comparison:\n",
      "      Total_Energy_Raw  Total__Energy_Int  Diff_Energy_Total  \\\n",
      "User                                                           \n",
      "U117      1.076866e+06       4.742812e+06       3.665946e+06   \n",
      "U154      3.537323e+06       1.348101e+07       9.943692e+06   \n",
      "U229      3.805135e+06       1.173028e+07       7.925149e+06   \n",
      "U177      2.811933e+05       8.665312e+05       5.853379e+05   \n",
      "U60       3.526302e+06       1.052251e+07       6.996206e+06   \n",
      "...                ...                ...                ...   \n",
      "U90       3.335480e+05       3.335503e+05       2.225000e+00   \n",
      "U196      2.294260e+06       2.294260e+06       0.000000e+00   \n",
      "U189      6.723831e+04       6.723831e+04       0.000000e+00   \n",
      "U185      2.398812e+06       2.398812e+06       0.000000e+00   \n",
      "U210      6.297087e+06       6.297087e+06       0.000000e+00   \n",
      "\n",
      "      Pct_Energy_Change  \n",
      "User                     \n",
      "U117         340.427196  \n",
      "U154         281.107838  \n",
      "U229         208.275089  \n",
      "U177         208.162088  \n",
      "U60          198.400647  \n",
      "...                 ...  \n",
      "U90            0.000667  \n",
      "U196           0.000000  \n",
      "U189           0.000000  \n",
      "U185           0.000000  \n",
      "U210           0.000000  \n",
      "\n",
      "[239 rows x 4 columns]\n"
     ]
    },
    {
     "name": "stderr",
     "output_type": "stream",
     "text": [
      "C:\\Users\\dmarc\\AppData\\Local\\Temp\\ipykernel_30540\\160201406.py:1: FutureWarning: DataFrameGroupBy.apply operated on the grouping columns. This behavior is deprecated, and in a future version of pandas the grouping columns will be excluded from the operation. Either pass `include_groups=False` to exclude the groupings or explicitly select the grouping columns after groupby to silence this warning.\n",
      "  user_comparison = consumption_C.groupby('User').apply(\n"
     ]
    }
   ],
   "source": [
    "user_comparison = consumption_C.groupby('User').apply(\n",
    "    lambda x: pd.Series({\n",
    "        'Total_Energy_Raw': x['Energy_raw [kWh]'].sum(),\n",
    "        'Total__Energy_Int': x['Energy_int [kWh]'].sum(),\n",
    "        'Diff_Energy_Total': x['Energy_int [kWh]'].sum() - x['Energy_raw [kWh]'].sum(),\n",
    "        'Pct_Energy_Change': ((x['Energy_int [kWh]'].sum() - x['Energy_raw [kWh]'].sum()) \n",
    "                     / x['Energy_raw [kWh]'].sum() * 100)\n",
    "    })\n",
    ")\n",
    "#sorted summary by the percentage\n",
    "sorted_user_comparison = user_comparison.sort_values('Pct_Energy_Change', ascending=False)\n",
    "print(\"\\nRaw vs Interpolated Energy Comparison:\")\n",
    "print(sorted_user_comparison)"
   ]
  },
  {
   "cell_type": "code",
   "execution_count": 154,
   "id": "b8a7b8d2",
   "metadata": {},
   "outputs": [
    {
     "name": "stdout",
     "output_type": "stream",
     "text": [
      "Data types:\n",
      " Time                datetime64[ns]\n",
      "Energy_raw [kWh]           float64\n",
      "User                        object\n",
      "Section                     object\n",
      "Division Code               object\n",
      "Division Name               object\n",
      "Energy_int [kWh]           float64\n",
      "Week_Day                    object\n",
      "Week_Day_Num                 int32\n",
      "Month_Name                  object\n",
      "dtype: object\n"
     ]
    }
   ],
   "source": [
    "print(\"Data types:\\n\", consumption_C.dtypes)"
   ]
  },
  {
   "cell_type": "code",
   "execution_count": 155,
   "id": "c27f5ee6",
   "metadata": {},
   "outputs": [],
   "source": [
    "# Convert 'Time' column to datetime\n",
    "consumption_C['Time'] = pd.to_datetime(consumption_C['Time'])\n",
    "# Add a column with the weekday name (e.g., 'Monday', 'Tuesday')\n",
    "consumption_C['Week_Day'] = consumption_C['Time'].dt.day_name()\n",
    "# Add a column with the weekday number (e.g., 'Monday', 'Tuesday')\n",
    "consumption_C['Week_Day_Num'] = consumption_C['Time'].dt.dayofweek + 1\n",
    "#Add month name (e.g., 'January')\n",
    "consumption_C['Month_Name'] = consumption_C['Time'].dt.month_name()"
   ]
  },
  {
   "cell_type": "code",
   "execution_count": null,
   "id": "98077616",
   "metadata": {},
   "outputs": [],
   "source": [
    "# shift assignment function\n",
    "from datetime import datetime, time\n",
    "def assign_shift(dt):\n",
    "    t = dt.time()\n",
    "    if time(6, 0) <= t < time(14, 0):\n",
    "        return 'First Shift'\n",
    "    elif time(14, 0) <= t < time(22, 0):\n",
    "        return 'Second Shift'\n",
    "    else:\n",
    "        # Covers 22:00-24:00 and 00:00-06:00\n",
    "        return 'Third Shift'\n",
    "\n",
    "# Apply function \"assign_shift\" to create shift column\n",
    "consumption_C ['shift'] = consumption_C ['DateTime'].apply(assign_shift)"
   ]
  },
  {
   "cell_type": "markdown",
   "id": "9edea2b5",
   "metadata": {},
   "source": [
    "## merge with UserLocation\n",
    "cons_City"
   ]
  },
  {
   "cell_type": "code",
   "execution_count": 163,
   "id": "a558d68d",
   "metadata": {},
   "outputs": [
    {
     "name": "stdout",
     "output_type": "stream",
     "text": [
      "Found 3 CSV files total\n"
     ]
    }
   ],
   "source": [
    "import os\n",
    "filepath = r'C:/Users/dmarc/Desktop/Energy_project/data/EWELD_raw/User Location'\n",
    "# Take all CSV files in folder structure\n",
    "all_csv_files = []\n",
    "for root, dirs, files in os.walk(filepath):\n",
    "    for file in files:\n",
    "        if file.endswith('.csv'):\n",
    "            full_path = os.path.join(root, file)\n",
    "            all_csv_files.append(full_path)\n",
    "\n",
    "print(f\"Found {len(all_csv_files)} CSV files total\")"
   ]
  },
  {
   "cell_type": "code",
   "execution_count": 164,
   "id": "1502cda1",
   "metadata": {},
   "outputs": [],
   "source": [
    "# List to hold all dataframes\n",
    "dataframe = []\n",
    "\n",
    "for file in os.listdir(filepath):\n",
    "    if file.endswith('.csv'):\n",
    "        df = pd.read_csv(os.path.join(filepath, file))\n",
    "        # Add filename column (without .csv)\n",
    "        df['source_file'] = file[:-4]\n",
    "        dataframe.append(df)\n",
    "\n",
    "# List to  dataframes\n",
    "location_data = pd.concat(dataframe)"
   ]
  },
  {
   "cell_type": "code",
   "execution_count": 165,
   "id": "c05b8fa3",
   "metadata": {},
   "outputs": [],
   "source": [
    "# remove the prefix U_\n",
    "location_data['source_file'] = location_data['source_file'].str.replace('U_', '', regex=False)\n",
    "#  Rename the column\n",
    "location_data = location_data.rename(columns={'source_file': 'City', 'User No.': 'User'})\n"
   ]
  },
  {
   "cell_type": "code",
   "execution_count": 166,
   "id": "0c4429fe",
   "metadata": {},
   "outputs": [
    {
     "data": {
      "application/vnd.microsoft.datawrangler.viewer.v0+json": {
       "columns": [
        {
         "name": "index",
         "rawType": "int64",
         "type": "integer"
        },
        {
         "name": "User",
         "rawType": "object",
         "type": "string"
        },
        {
         "name": "City",
         "rawType": "object",
         "type": "string"
        }
       ],
       "ref": "5af8e436-cc4d-43e4-a7a5-ac4fc7fda17b",
       "rows": [
        [
         "60",
         "U64",
         "CT2"
        ],
        [
         "123",
         "U129",
         "CT2"
        ],
        [
         "352",
         "U365",
         "CT2"
        ],
        [
         "81",
         "U85",
         "CT2"
        ],
        [
         "70",
         "U74",
         "CT2"
        ],
        [
         "348",
         "U361",
         "CT2"
        ],
        [
         "39",
         "U42",
         "CT2"
        ],
        [
         "337",
         "U349",
         "CT2"
        ],
        [
         "11",
         "U12",
         "CT2"
        ],
        [
         "221",
         "U230",
         "CT2"
        ],
        [
         "224",
         "U233",
         "CT2"
        ]
       ],
       "shape": {
        "columns": 2,
        "rows": 11
       }
      },
      "text/html": [
       "<div>\n",
       "<style scoped>\n",
       "    .dataframe tbody tr th:only-of-type {\n",
       "        vertical-align: middle;\n",
       "    }\n",
       "\n",
       "    .dataframe tbody tr th {\n",
       "        vertical-align: top;\n",
       "    }\n",
       "\n",
       "    .dataframe thead th {\n",
       "        text-align: right;\n",
       "    }\n",
       "</style>\n",
       "<table border=\"1\" class=\"dataframe\">\n",
       "  <thead>\n",
       "    <tr style=\"text-align: right;\">\n",
       "      <th></th>\n",
       "      <th>User</th>\n",
       "      <th>City</th>\n",
       "    </tr>\n",
       "  </thead>\n",
       "  <tbody>\n",
       "    <tr>\n",
       "      <th>60</th>\n",
       "      <td>U64</td>\n",
       "      <td>CT2</td>\n",
       "    </tr>\n",
       "    <tr>\n",
       "      <th>123</th>\n",
       "      <td>U129</td>\n",
       "      <td>CT2</td>\n",
       "    </tr>\n",
       "    <tr>\n",
       "      <th>352</th>\n",
       "      <td>U365</td>\n",
       "      <td>CT2</td>\n",
       "    </tr>\n",
       "    <tr>\n",
       "      <th>81</th>\n",
       "      <td>U85</td>\n",
       "      <td>CT2</td>\n",
       "    </tr>\n",
       "    <tr>\n",
       "      <th>70</th>\n",
       "      <td>U74</td>\n",
       "      <td>CT2</td>\n",
       "    </tr>\n",
       "    <tr>\n",
       "      <th>348</th>\n",
       "      <td>U361</td>\n",
       "      <td>CT2</td>\n",
       "    </tr>\n",
       "    <tr>\n",
       "      <th>39</th>\n",
       "      <td>U42</td>\n",
       "      <td>CT2</td>\n",
       "    </tr>\n",
       "    <tr>\n",
       "      <th>337</th>\n",
       "      <td>U349</td>\n",
       "      <td>CT2</td>\n",
       "    </tr>\n",
       "    <tr>\n",
       "      <th>11</th>\n",
       "      <td>U12</td>\n",
       "      <td>CT2</td>\n",
       "    </tr>\n",
       "    <tr>\n",
       "      <th>221</th>\n",
       "      <td>U230</td>\n",
       "      <td>CT2</td>\n",
       "    </tr>\n",
       "    <tr>\n",
       "      <th>224</th>\n",
       "      <td>U233</td>\n",
       "      <td>CT2</td>\n",
       "    </tr>\n",
       "  </tbody>\n",
       "</table>\n",
       "</div>"
      ],
      "text/plain": [
       "     User City\n",
       "60    U64  CT2\n",
       "123  U129  CT2\n",
       "352  U365  CT2\n",
       "81    U85  CT2\n",
       "70    U74  CT2\n",
       "348  U361  CT2\n",
       "39    U42  CT2\n",
       "337  U349  CT2\n",
       "11    U12  CT2\n",
       "221  U230  CT2\n",
       "224  U233  CT2"
      ]
     },
     "execution_count": 166,
     "metadata": {},
     "output_type": "execute_result"
    }
   ],
   "source": [
    "location_data.sample(11)"
   ]
  },
  {
   "cell_type": "code",
   "execution_count": 167,
   "id": "561c763c",
   "metadata": {},
   "outputs": [],
   "source": [
    "cons_City = consumption_C.copy()"
   ]
  },
  {
   "cell_type": "code",
   "execution_count": 168,
   "id": "ff941936",
   "metadata": {},
   "outputs": [],
   "source": [
    "cons_City = pd.merge(\n",
    "    cons_City ,\n",
    "    location_data,\n",
    "    on=['User'],\n",
    "    how='left'\n",
    ")\n"
   ]
  },
  {
   "cell_type": "code",
   "execution_count": 169,
   "id": "9a4edb1a",
   "metadata": {},
   "outputs": [
    {
     "data": {
      "application/vnd.microsoft.datawrangler.viewer.v0+json": {
       "columns": [
        {
         "name": "index",
         "rawType": "int64",
         "type": "integer"
        },
        {
         "name": "Time",
         "rawType": "datetime64[ns]",
         "type": "datetime"
        },
        {
         "name": "Energy_raw [kWh]",
         "rawType": "float64",
         "type": "float"
        },
        {
         "name": "User",
         "rawType": "object",
         "type": "string"
        },
        {
         "name": "Section",
         "rawType": "object",
         "type": "string"
        },
        {
         "name": "Division Code",
         "rawType": "object",
         "type": "string"
        },
        {
         "name": "Division Name",
         "rawType": "object",
         "type": "string"
        },
        {
         "name": "Energy_int [kWh]",
         "rawType": "float64",
         "type": "float"
        },
        {
         "name": "Week_Day",
         "rawType": "object",
         "type": "string"
        },
        {
         "name": "Week_Day_Num",
         "rawType": "int32",
         "type": "integer"
        },
        {
         "name": "Month_Name",
         "rawType": "object",
         "type": "string"
        },
        {
         "name": "City",
         "rawType": "object",
         "type": "string"
        }
       ],
       "ref": "99b78493-3c1f-4d98-b8a0-3f2b9f26d119",
       "rows": [
        [
         "0",
         "2017-06-04 00:15:00",
         "1.8156",
         "U11",
         "C",
         "10",
         "Manufacture of food products",
         "1.8156",
         "Sunday",
         "7",
         "June",
         "CT2"
        ],
        [
         "1",
         "2017-06-04 00:30:00",
         "1.8156",
         "U11",
         "C",
         "10",
         "Manufacture of food products",
         "1.8156",
         "Sunday",
         "7",
         "June",
         "CT2"
        ],
        [
         "2",
         "2017-06-04 00:45:00",
         "1.8156",
         "U11",
         "C",
         "10",
         "Manufacture of food products",
         "1.8156",
         "Sunday",
         "7",
         "June",
         "CT2"
        ],
        [
         "3",
         "2017-06-04 01:00:00",
         "1.8156",
         "U11",
         "C",
         "10",
         "Manufacture of food products",
         "1.8156",
         "Sunday",
         "7",
         "June",
         "CT2"
        ],
        [
         "4",
         "2017-06-04 01:15:00",
         "2.514",
         "U11",
         "C",
         "10",
         "Manufacture of food products",
         "2.514",
         "Sunday",
         "7",
         "June",
         "CT2"
        ]
       ],
       "shape": {
        "columns": 11,
        "rows": 5
       }
      },
      "text/html": [
       "<div>\n",
       "<style scoped>\n",
       "    .dataframe tbody tr th:only-of-type {\n",
       "        vertical-align: middle;\n",
       "    }\n",
       "\n",
       "    .dataframe tbody tr th {\n",
       "        vertical-align: top;\n",
       "    }\n",
       "\n",
       "    .dataframe thead th {\n",
       "        text-align: right;\n",
       "    }\n",
       "</style>\n",
       "<table border=\"1\" class=\"dataframe\">\n",
       "  <thead>\n",
       "    <tr style=\"text-align: right;\">\n",
       "      <th></th>\n",
       "      <th>Time</th>\n",
       "      <th>Energy_raw [kWh]</th>\n",
       "      <th>User</th>\n",
       "      <th>Section</th>\n",
       "      <th>Division Code</th>\n",
       "      <th>Division Name</th>\n",
       "      <th>Energy_int [kWh]</th>\n",
       "      <th>Week_Day</th>\n",
       "      <th>Week_Day_Num</th>\n",
       "      <th>Month_Name</th>\n",
       "      <th>City</th>\n",
       "    </tr>\n",
       "  </thead>\n",
       "  <tbody>\n",
       "    <tr>\n",
       "      <th>0</th>\n",
       "      <td>2017-06-04 00:15:00</td>\n",
       "      <td>1.8156</td>\n",
       "      <td>U11</td>\n",
       "      <td>C</td>\n",
       "      <td>10</td>\n",
       "      <td>Manufacture of food products</td>\n",
       "      <td>1.8156</td>\n",
       "      <td>Sunday</td>\n",
       "      <td>7</td>\n",
       "      <td>June</td>\n",
       "      <td>CT2</td>\n",
       "    </tr>\n",
       "    <tr>\n",
       "      <th>1</th>\n",
       "      <td>2017-06-04 00:30:00</td>\n",
       "      <td>1.8156</td>\n",
       "      <td>U11</td>\n",
       "      <td>C</td>\n",
       "      <td>10</td>\n",
       "      <td>Manufacture of food products</td>\n",
       "      <td>1.8156</td>\n",
       "      <td>Sunday</td>\n",
       "      <td>7</td>\n",
       "      <td>June</td>\n",
       "      <td>CT2</td>\n",
       "    </tr>\n",
       "    <tr>\n",
       "      <th>2</th>\n",
       "      <td>2017-06-04 00:45:00</td>\n",
       "      <td>1.8156</td>\n",
       "      <td>U11</td>\n",
       "      <td>C</td>\n",
       "      <td>10</td>\n",
       "      <td>Manufacture of food products</td>\n",
       "      <td>1.8156</td>\n",
       "      <td>Sunday</td>\n",
       "      <td>7</td>\n",
       "      <td>June</td>\n",
       "      <td>CT2</td>\n",
       "    </tr>\n",
       "    <tr>\n",
       "      <th>3</th>\n",
       "      <td>2017-06-04 01:00:00</td>\n",
       "      <td>1.8156</td>\n",
       "      <td>U11</td>\n",
       "      <td>C</td>\n",
       "      <td>10</td>\n",
       "      <td>Manufacture of food products</td>\n",
       "      <td>1.8156</td>\n",
       "      <td>Sunday</td>\n",
       "      <td>7</td>\n",
       "      <td>June</td>\n",
       "      <td>CT2</td>\n",
       "    </tr>\n",
       "    <tr>\n",
       "      <th>4</th>\n",
       "      <td>2017-06-04 01:15:00</td>\n",
       "      <td>2.5140</td>\n",
       "      <td>U11</td>\n",
       "      <td>C</td>\n",
       "      <td>10</td>\n",
       "      <td>Manufacture of food products</td>\n",
       "      <td>2.5140</td>\n",
       "      <td>Sunday</td>\n",
       "      <td>7</td>\n",
       "      <td>June</td>\n",
       "      <td>CT2</td>\n",
       "    </tr>\n",
       "  </tbody>\n",
       "</table>\n",
       "</div>"
      ],
      "text/plain": [
       "                 Time  Energy_raw [kWh] User Section Division Code  \\\n",
       "0 2017-06-04 00:15:00            1.8156  U11       C            10   \n",
       "1 2017-06-04 00:30:00            1.8156  U11       C            10   \n",
       "2 2017-06-04 00:45:00            1.8156  U11       C            10   \n",
       "3 2017-06-04 01:00:00            1.8156  U11       C            10   \n",
       "4 2017-06-04 01:15:00            2.5140  U11       C            10   \n",
       "\n",
       "                  Division Name  Energy_int [kWh] Week_Day  Week_Day_Num  \\\n",
       "0  Manufacture of food products            1.8156   Sunday             7   \n",
       "1  Manufacture of food products            1.8156   Sunday             7   \n",
       "2  Manufacture of food products            1.8156   Sunday             7   \n",
       "3  Manufacture of food products            1.8156   Sunday             7   \n",
       "4  Manufacture of food products            2.5140   Sunday             7   \n",
       "\n",
       "  Month_Name City  \n",
       "0       June  CT2  \n",
       "1       June  CT2  \n",
       "2       June  CT2  \n",
       "3       June  CT2  \n",
       "4       June  CT2  "
      ]
     },
     "execution_count": 169,
     "metadata": {},
     "output_type": "execute_result"
    }
   ],
   "source": [
    "cons_City.head()"
   ]
  },
  {
   "cell_type": "markdown",
   "id": "fb314a16",
   "metadata": {},
   "source": [
    "## merge with weather data\n",
    "cons_City_weather"
   ]
  },
  {
   "cell_type": "code",
   "execution_count": 170,
   "id": "fd7b1a25",
   "metadata": {},
   "outputs": [],
   "source": [
    "cons_City_weather = cons_City.copy()"
   ]
  },
  {
   "cell_type": "code",
   "execution_count": 158,
   "id": "9d6c1ebb",
   "metadata": {},
   "outputs": [],
   "source": [
    "weather_data_with_extreme = pd.read_csv(r\"C:\\Users\\dmarc\\Desktop\\Energy_project\\data\\processed\\weather_data_with_extreme.csv\")"
   ]
  },
  {
   "cell_type": "code",
   "execution_count": 160,
   "id": "b336ec31",
   "metadata": {},
   "outputs": [],
   "source": [
    "# Convert 'Time' column to datetime\n",
    "weather_data_with_extreme['Time'] = pd.to_datetime(weather_data_with_extreme['Time'])"
   ]
  },
  {
   "cell_type": "code",
   "execution_count": null,
   "id": "d37d9655",
   "metadata": {},
   "outputs": [
    {
     "data": {
      "application/vnd.microsoft.datawrangler.viewer.v0+json": {
       "columns": [
        {
         "name": "index",
         "rawType": "object",
         "type": "string"
        },
        {
         "name": "0",
         "rawType": "object",
         "type": "unknown"
        }
       ],
       "ref": "21b71a0b-4af1-4ddf-9542-977d41a01295",
       "rows": [
        [
         "Time",
         "datetime64[ns]"
        ],
        [
         "Temperature(C)",
         "float64"
        ],
        [
         "Dew Point(C)",
         "float64"
        ],
        [
         "Humidity(%)",
         "float64"
        ],
        [
         "Wind",
         "object"
        ],
        [
         "Wind Speed(mph)",
         "float64"
        ],
        [
         "Wind Gust(mph)",
         "float64"
        ],
        [
         "Pressure(hPa)",
         "float64"
        ],
        [
         "Condition",
         "object"
        ],
        [
         "City",
         "object"
        ],
        [
         "Extreme Weather",
         "object"
        ],
        [
         "EWno",
         "int64"
        ]
       ],
       "shape": {
        "columns": 1,
        "rows": 12
       }
      },
      "text/plain": [
       "Time               datetime64[ns]\n",
       "Temperature(C)            float64\n",
       "Dew Point(C)              float64\n",
       "Humidity(%)               float64\n",
       "Wind                       object\n",
       "Wind Speed(mph)           float64\n",
       "Wind Gust(mph)            float64\n",
       "Pressure(hPa)             float64\n",
       "Condition                  object\n",
       "City                       object\n",
       "Extreme Weather            object\n",
       "EWno                        int64\n",
       "dtype: object"
      ]
     },
     "execution_count": 161,
     "metadata": {},
     "output_type": "execute_result"
    }
   ],
   "source": [
    "weather_data_with_extreme.dtypes"
   ]
  },
  {
   "cell_type": "code",
   "execution_count": 171,
   "id": "b9a74d34",
   "metadata": {},
   "outputs": [],
   "source": [
    "cons_City_weather = pd.merge(\n",
    "    cons_City_weather ,\n",
    "    weather_data_with_extreme,\n",
    "    on=['Time', 'City'],\n",
    "    how='left'\n",
    ")\n"
   ]
  },
  {
   "cell_type": "code",
   "execution_count": 173,
   "id": "f289305c",
   "metadata": {},
   "outputs": [
    {
     "name": "stdout",
     "output_type": "stream",
     "text": [
      "Data types:\n",
      " Time                datetime64[ns]\n",
      "Energy_raw [kWh]           float64\n",
      "User                        object\n",
      "Section                     object\n",
      "Division Code               object\n",
      "Division Name               object\n",
      "Energy_int [kWh]           float64\n",
      "Week_Day                    object\n",
      "Week_Day_Num                 int32\n",
      "Month_Name                  object\n",
      "City                        object\n",
      "Temperature(C)             float64\n",
      "Dew Point(C)               float64\n",
      "Humidity(%)                float64\n",
      "Wind                        object\n",
      "Wind Speed(mph)            float64\n",
      "Wind Gust(mph)             float64\n",
      "Pressure(hPa)              float64\n",
      "Condition                   object\n",
      "Extreme Weather             object\n",
      "EWno                         int64\n",
      "dtype: object\n"
     ]
    }
   ],
   "source": [
    "print(\"Data types:\\n\", cons_City_weather.dtypes)"
   ]
  },
  {
   "cell_type": "markdown",
   "id": "0030b52e",
   "metadata": {},
   "source": [
    "## Step 7 Time paterns\n",
    "consumption_TimeIndex"
   ]
  },
  {
   "cell_type": "code",
   "execution_count": 174,
   "id": "472925eb",
   "metadata": {},
   "outputs": [],
   "source": [
    "consumption_TimeIndex = cons_City_weather.copy()"
   ]
  },
  {
   "cell_type": "code",
   "execution_count": null,
   "id": "55162412",
   "metadata": {},
   "outputs": [],
   "source": [
    "\n",
    "cons_City_weather = cons_City_weather.sort_values('Time')\n",
    "\n",
    "# rolling window\n",
    "window_sizes = [3, 7, 14, 28]  # day windows\n",
    "\n",
    "for window in window_sizes:\n",
    "    cons_City_weather[f'Energy_int_Avg_{window}d'] = cons_City_weather['Energy_int [kWh]'].rolling(f'{window}D', on='Time').mean()\n",
    "    \n",
    "    cons_City_weather[f'Energy_int_Median_{window}d'] = cons_City_weather['Energy_int [kWh]'].rolling(f'{window}D', on='Time').median()\n",
    "    \n",
    "    cons_City_weather[f'Energy_int_Std_{window}d'] = cons_City_weather['Energy_int [kWh]'].rolling(f'{window}D', on='Time').std()\n",
    "    \n",
    "    cons_City_weather[f'Energy_int_Sum_{window}d'] = cons_City_weather['Energy_int [kWh]'].rolling(f'{window}D', on='Time').sum()\n",
    "\n",
    "print(cons_City_weather[['Time', 'Energy_int [kWh]', \n",
    "                         'Energy_int_Avg_3d', 'Energy_int_Median_3d', \n",
    "                         'Energy_int_Std_3d', 'Energy_int_Sum_3d']].head(10))"
   ]
  },
  {
   "cell_type": "code",
   "execution_count": 175,
   "id": "f6ee6894",
   "metadata": {},
   "outputs": [],
   "source": [
    "# 'Time' is a datetime  to index\n",
    "consumption_TimeIndex = consumption_TimeIndex.set_index('Time')"
   ]
  },
  {
   "cell_type": "code",
   "execution_count": null,
   "id": "9459846f",
   "metadata": {},
   "outputs": [
    {
     "data": {
      "image/png": "[encoded data removed]",
      "text/plain": [
       "<Figure size 640x480 with 1 Axes>"
      ]
     },
     "metadata": {},
     "output_type": "display_data"
    }
   ],
   "source": [
    "import matplotlib.pyplot as plt \n",
    "#  plot without specifying x, since the index is Time\n",
    "consumption_TimeIndex['Energy_raw [kWh]'].plot(kind='line', legend=True, linewidth=1, color='b')\n",
    "plt.title('Energy consumption orginall for Manufacturing over Time')\n",
    "plt.xlabel('Time')\n",
    "plt.ylabel('Sum Energy [kWh]')\n",
    "plt.grid(True)\n",
    "plt.show()"
   ]
  },
  {
   "cell_type": "code",
   "execution_count": 176,
   "id": "a5c4ab30",
   "metadata": {},
   "outputs": [
    {
     "data": {
      "image/png": "[encoded data removed]",
      "text/plain": [
       "<Figure size 640x480 with 1 Axes>"
      ]
     },
     "metadata": {},
     "output_type": "display_data"
    }
   ],
   "source": [
    "import matplotlib.pyplot as plt \n",
    "#  plot without specifying x, since the index is Time\n",
    "consumption_TimeIndex['Energy_int [kWh]'].plot(kind='line', legend=True, linewidth=1, color='g')\n",
    "plt.title('Energy consumption interpolated for Manufacturing over Time')\n",
    "plt.xlabel('Time')\n",
    "plt.ylabel('Sum Energy Interpolated [kWh]')\n",
    "plt.grid(True)\n",
    "plt.show()"
   ]
  },
  {
   "cell_type": "code",
   "execution_count": null,
   "id": "dfbfb05f",
   "metadata": {},
   "outputs": [],
   "source": [
    "import numpy as np\n",
    "# Create group labels for every 4 rows\n",
    "rolling1_Ct1_ec_df['hourly_group'] = np.arange(len(rolling1_Ct1_ec_df)) // 4\n",
    "# Calculate max/min per group\n",
    "rolling1_Ct1_ec_df['block_hourly_max'] = rolling1_Ct1_ec_df.groupby('hourly_group')['sum energy [kWh]'].transform('max')\n",
    "rolling1_Ct1_ec_df['block_hourly_min'] = rolling1_Ct1_ec_df.groupby('hourly_group')['sum energy [kWh]'].transform('min')"
   ]
  },
  {
   "cell_type": "code",
   "execution_count": 134,
   "id": "32d0b7a2",
   "metadata": {},
   "outputs": [
    {
     "name": "stdout",
     "output_type": "stream",
     "text": [
      "Actual columns in DataFrame: ['User', 'Section', 'Division Code', 'Division Name', 'Energy [kWh]', 'Week_Day', 'Week_Day_Num']\n"
     ]
    }
   ],
   "source": [
    "print(\"Actual columns in DataFrame:\", consumption_C.columns.tolist())"
   ]
  },
  {
   "cell_type": "code",
   "execution_count": 135,
   "id": "1df15b19",
   "metadata": {},
   "outputs": [
    {
     "data": {
      "image/png": "[encoded data removed]",
      "text/plain": [
       "<Figure size 1000x600 with 1 Axes>"
      ]
     },
     "metadata": {},
     "output_type": "display_data"
    }
   ],
   "source": [
    "import matplotlib.pyplot as plt\n",
    "import seaborn as sns\n",
    "\n",
    "# Set style\n",
    "sns.set(style=\"whitegrid\")\n",
    "\n",
    "# Create boxplot\n",
    "plt.figure(figsize=(10, 6))\n",
    "sns.boxplot(\n",
    "    x='Week_Day', \n",
    "    y='Energy [kWh]', \n",
    "    data=consumption_C,\n",
    "    order=['Monday', 'Tuesday', 'Wednesday', 'Thursday', 'Friday', 'Saturday', 'Sunday']\n",
    ")\n",
    "plt.title('Energy Consumption Distribution by Weekday')\n",
    "plt.xticks(rotation=45)\n",
    "plt.show()"
   ]
  },
  {
   "cell_type": "code",
   "execution_count": 129,
   "id": "d5efbe03",
   "metadata": {},
   "outputs": [
    {
     "data": {
      "text/plain": [
       "Index(['User', 'Section', 'Division Code', 'Division Name', 'Energy [kWh]',\n",
       "       'Week_Day', 'Week_Day_Num'],\n",
       "      dtype='object')"
      ]
     },
     "execution_count": 129,
     "metadata": {},
     "output_type": "execute_result"
    }
   ],
   "source": [
    "consumption_C.columns"
   ]
  },
  {
   "cell_type": "code",
   "execution_count": null,
   "id": "34827448",
   "metadata": {},
   "outputs": [],
   "source": [
    "# Drop the unwanted column\n",
    "consumption_C = consumption_C.drop(columns=['Energy_cons [kWh]'])\n",
    "\n",
    "# Rename the column\n",
    "consumption_C = consumption_C.rename(columns={'Energy_cons_interpolated': 'Energy [kWh]'})\n",
    "\n",
    "# View the result\n",
    "print(consumption_C.head())"
   ]
  },
  {
   "cell_type": "code",
   "execution_count": 76,
   "id": "a7f0801d",
   "metadata": {},
   "outputs": [],
   "source": [
    "location_data = pd.read_csv(r\"C:\\Users\\dmarc\\Desktop\\Energy_project\\data\\processed\\location_data.csv\")"
   ]
  },
  {
   "cell_type": "code",
   "execution_count": 78,
   "id": "7cf85c9a",
   "metadata": {},
   "outputs": [
    {
     "name": "stdout",
     "output_type": "stream",
     "text": [
      "<class 'pandas.core.frame.DataFrame'>\n",
      "RangeIndex: 386 entries, 0 to 385\n",
      "Data columns (total 2 columns):\n",
      " #   Column  Non-Null Count  Dtype \n",
      "---  ------  --------------  ----- \n",
      " 0   User    386 non-null    object\n",
      " 1   City    386 non-null    object\n",
      "dtypes: object(2)\n",
      "memory usage: 6.2+ KB\n"
     ]
    }
   ],
   "source": [
    "location_data.info()"
   ]
  },
  {
   "cell_type": "code",
   "execution_count": 80,
   "id": "ef5e7c49",
   "metadata": {},
   "outputs": [],
   "source": [
    "energy_combined = pd.merge(\n",
    "    consumption_C,\n",
    "    location_data[['User', 'City']],\n",
    "    on='User',\n",
    "    how='left'\n",
    ")"
   ]
  },
  {
   "cell_type": "code",
   "execution_count": 81,
   "id": "7d8f5e33",
   "metadata": {},
   "outputs": [
    {
     "data": {
      "application/vnd.microsoft.datawrangler.viewer.v0+json": {
       "columns": [
        {
         "name": "index",
         "rawType": "object",
         "type": "string"
        },
        {
         "name": "0",
         "rawType": "int64",
         "type": "integer"
        }
       ],
       "ref": "c10a7089-ba94-40b5-8e88-aa00c880a521",
       "rows": [
        [
         "Time",
         "0"
        ],
        [
         "User",
         "0"
        ],
        [
         "Section",
         "0"
        ],
        [
         "Division Code",
         "0"
        ],
        [
         "Division Name",
         "0"
        ],
        [
         "Energy_consumption[kWh]",
         "0"
        ],
        [
         "City",
         "0"
        ]
       ],
       "shape": {
        "columns": 1,
        "rows": 7
       }
      },
      "text/plain": [
       "Time                       0\n",
       "User                       0\n",
       "Section                    0\n",
       "Division Code              0\n",
       "Division Name              0\n",
       "Energy_consumption[kWh]    0\n",
       "City                       0\n",
       "dtype: int64"
      ]
     },
     "execution_count": 81,
     "metadata": {},
     "output_type": "execute_result"
    }
   ],
   "source": [
    "#columns with at least one NaN\n",
    "energy_combined.isna().sum()"
   ]
  },
  {
   "cell_type": "code",
   "execution_count": 86,
   "id": "2f7ec047",
   "metadata": {},
   "outputs": [
    {
     "data": {
      "application/vnd.microsoft.datawrangler.viewer.v0+json": {
       "columns": [
        {
         "name": "index",
         "rawType": "int64",
         "type": "integer"
        },
        {
         "name": "Time",
         "rawType": "datetime64[ns]",
         "type": "datetime"
        },
        {
         "name": "User",
         "rawType": "object",
         "type": "string"
        },
        {
         "name": "Section",
         "rawType": "object",
         "type": "string"
        },
        {
         "name": "Division Code",
         "rawType": "object",
         "type": "string"
        },
        {
         "name": "Division Name",
         "rawType": "object",
         "type": "string"
        },
        {
         "name": "Energy_consumption[kWh]",
         "rawType": "float64",
         "type": "float"
        },
        {
         "name": "City",
         "rawType": "object",
         "type": "string"
        }
       ],
       "ref": "2dc160bd-caad-4f88-9e97-88b7c51c8ca9",
       "rows": [
        [
         "28313070",
         "2021-04-17 10:15:00",
         "U211",
         "C",
         "26",
         "Manufacture of computer, electronic and optical products",
         "47.1354",
         "CT2"
        ],
        [
         "34074806",
         "2021-09-25 04:00:00",
         "U247",
         "C",
         "31",
         "Manufacture of furniture",
         "17.6406",
         "CT2"
        ],
        [
         "4895335",
         "2018-08-16 22:45:00",
         "U43",
         "C",
         "14",
         "Manufacture of wearing apparel",
         "4.1413",
         "CT2"
        ],
        [
         "11139872",
         "2020-10-08 09:15:00",
         "U84",
         "C",
         "22",
         "Manufacture of rubber and plastics products",
         "1.0205",
         "CT2"
        ],
        [
         "20052888",
         "2020-02-14 01:30:00",
         "U153",
         "C",
         "24",
         "Manufacture of basic metals",
         "103.4978",
         "CT2"
        ],
        [
         "1393157",
         "2019-08-04 00:30:00",
         "U20",
         "C",
         "11",
         "Manufacture of beverages",
         "75.423",
         "CT2"
        ],
        [
         "16032579",
         "2016-10-17 20:15:00",
         "U122",
         "C",
         "23",
         "Manufacture of other non-metallic mineral products",
         "41.2406",
         "CT2"
        ],
        [
         "14685246",
         "2018-07-04 02:30:00",
         "U110",
         "C",
         "23",
         "Manufacture of other non-metallic mineral products",
         "130.8834",
         "CT2"
        ],
        [
         "4612285",
         "2018-05-08 18:30:00",
         "U40",
         "C",
         "13",
         "Manufacture of textiles",
         "45.4127",
         "CT2"
        ],
        [
         "1231582",
         "2019-07-23 22:30:00",
         "U19",
         "C",
         "11",
         "Manufacture of beverages",
         "0.1151",
         "CT1"
        ]
       ],
       "shape": {
        "columns": 7,
        "rows": 10
       }
      },
      "text/html": [
       "<div>\n",
       "<style scoped>\n",
       "    .dataframe tbody tr th:only-of-type {\n",
       "        vertical-align: middle;\n",
       "    }\n",
       "\n",
       "    .dataframe tbody tr th {\n",
       "        vertical-align: top;\n",
       "    }\n",
       "\n",
       "    .dataframe thead th {\n",
       "        text-align: right;\n",
       "    }\n",
       "</style>\n",
       "<table border=\"1\" class=\"dataframe\">\n",
       "  <thead>\n",
       "    <tr style=\"text-align: right;\">\n",
       "      <th></th>\n",
       "      <th>Time</th>\n",
       "      <th>User</th>\n",
       "      <th>Section</th>\n",
       "      <th>Division Code</th>\n",
       "      <th>Division Name</th>\n",
       "      <th>Energy_consumption[kWh]</th>\n",
       "      <th>City</th>\n",
       "    </tr>\n",
       "  </thead>\n",
       "  <tbody>\n",
       "    <tr>\n",
       "      <th>28313070</th>\n",
       "      <td>2021-04-17 10:15:00</td>\n",
       "      <td>U211</td>\n",
       "      <td>C</td>\n",
       "      <td>26</td>\n",
       "      <td>Manufacture of computer, electronic and optica...</td>\n",
       "      <td>47.1354</td>\n",
       "      <td>CT2</td>\n",
       "    </tr>\n",
       "    <tr>\n",
       "      <th>34074806</th>\n",
       "      <td>2021-09-25 04:00:00</td>\n",
       "      <td>U247</td>\n",
       "      <td>C</td>\n",
       "      <td>31</td>\n",
       "      <td>Manufacture of furniture</td>\n",
       "      <td>17.6406</td>\n",
       "      <td>CT2</td>\n",
       "    </tr>\n",
       "    <tr>\n",
       "      <th>4895335</th>\n",
       "      <td>2018-08-16 22:45:00</td>\n",
       "      <td>U43</td>\n",
       "      <td>C</td>\n",
       "      <td>14</td>\n",
       "      <td>Manufacture of wearing apparel</td>\n",
       "      <td>4.1413</td>\n",
       "      <td>CT2</td>\n",
       "    </tr>\n",
       "    <tr>\n",
       "      <th>11139872</th>\n",
       "      <td>2020-10-08 09:15:00</td>\n",
       "      <td>U84</td>\n",
       "      <td>C</td>\n",
       "      <td>22</td>\n",
       "      <td>Manufacture of rubber and plastics products</td>\n",
       "      <td>1.0205</td>\n",
       "      <td>CT2</td>\n",
       "    </tr>\n",
       "    <tr>\n",
       "      <th>20052888</th>\n",
       "      <td>2020-02-14 01:30:00</td>\n",
       "      <td>U153</td>\n",
       "      <td>C</td>\n",
       "      <td>24</td>\n",
       "      <td>Manufacture of basic metals</td>\n",
       "      <td>103.4978</td>\n",
       "      <td>CT2</td>\n",
       "    </tr>\n",
       "    <tr>\n",
       "      <th>1393157</th>\n",
       "      <td>2019-08-04 00:30:00</td>\n",
       "      <td>U20</td>\n",
       "      <td>C</td>\n",
       "      <td>11</td>\n",
       "      <td>Manufacture of beverages</td>\n",
       "      <td>75.4230</td>\n",
       "      <td>CT2</td>\n",
       "    </tr>\n",
       "    <tr>\n",
       "      <th>16032579</th>\n",
       "      <td>2016-10-17 20:15:00</td>\n",
       "      <td>U122</td>\n",
       "      <td>C</td>\n",
       "      <td>23</td>\n",
       "      <td>Manufacture of other non-metallic mineral prod...</td>\n",
       "      <td>41.2406</td>\n",
       "      <td>CT2</td>\n",
       "    </tr>\n",
       "    <tr>\n",
       "      <th>14685246</th>\n",
       "      <td>2018-07-04 02:30:00</td>\n",
       "      <td>U110</td>\n",
       "      <td>C</td>\n",
       "      <td>23</td>\n",
       "      <td>Manufacture of other non-metallic mineral prod...</td>\n",
       "      <td>130.8834</td>\n",
       "      <td>CT2</td>\n",
       "    </tr>\n",
       "    <tr>\n",
       "      <th>4612285</th>\n",
       "      <td>2018-05-08 18:30:00</td>\n",
       "      <td>U40</td>\n",
       "      <td>C</td>\n",
       "      <td>13</td>\n",
       "      <td>Manufacture of textiles</td>\n",
       "      <td>45.4127</td>\n",
       "      <td>CT2</td>\n",
       "    </tr>\n",
       "    <tr>\n",
       "      <th>1231582</th>\n",
       "      <td>2019-07-23 22:30:00</td>\n",
       "      <td>U19</td>\n",
       "      <td>C</td>\n",
       "      <td>11</td>\n",
       "      <td>Manufacture of beverages</td>\n",
       "      <td>0.1151</td>\n",
       "      <td>CT1</td>\n",
       "    </tr>\n",
       "  </tbody>\n",
       "</table>\n",
       "</div>"
      ],
      "text/plain": [
       "                        Time  User Section Division Code  \\\n",
       "28313070 2021-04-17 10:15:00  U211       C            26   \n",
       "34074806 2021-09-25 04:00:00  U247       C            31   \n",
       "4895335  2018-08-16 22:45:00   U43       C            14   \n",
       "11139872 2020-10-08 09:15:00   U84       C            22   \n",
       "20052888 2020-02-14 01:30:00  U153       C            24   \n",
       "1393157  2019-08-04 00:30:00   U20       C            11   \n",
       "16032579 2016-10-17 20:15:00  U122       C            23   \n",
       "14685246 2018-07-04 02:30:00  U110       C            23   \n",
       "4612285  2018-05-08 18:30:00   U40       C            13   \n",
       "1231582  2019-07-23 22:30:00   U19       C            11   \n",
       "\n",
       "                                              Division Name  \\\n",
       "28313070  Manufacture of computer, electronic and optica...   \n",
       "34074806                           Manufacture of furniture   \n",
       "4895335                      Manufacture of wearing apparel   \n",
       "11139872        Manufacture of rubber and plastics products   \n",
       "20052888                        Manufacture of basic metals   \n",
       "1393157                            Manufacture of beverages   \n",
       "16032579  Manufacture of other non-metallic mineral prod...   \n",
       "14685246  Manufacture of other non-metallic mineral prod...   \n",
       "4612285                             Manufacture of textiles   \n",
       "1231582                            Manufacture of beverages   \n",
       "\n",
       "          Energy_consumption[kWh] City  \n",
       "28313070                  47.1354  CT2  \n",
       "34074806                  17.6406  CT2  \n",
       "4895335                    4.1413  CT2  \n",
       "11139872                   1.0205  CT2  \n",
       "20052888                 103.4978  CT2  \n",
       "1393157                   75.4230  CT2  \n",
       "16032579                  41.2406  CT2  \n",
       "14685246                 130.8834  CT2  \n",
       "4612285                   45.4127  CT2  \n",
       "1231582                    0.1151  CT1  "
      ]
     },
     "execution_count": 86,
     "metadata": {},
     "output_type": "execute_result"
    }
   ],
   "source": [
    "energy_combined.sample(10)\n"
   ]
  },
  {
   "cell_type": "code",
   "execution_count": 88,
   "id": "80ddc94d",
   "metadata": {},
   "outputs": [
    {
     "data": {
      "text/plain": [
       "array(['CT2', 'CT1', 'CT3'], dtype=object)"
      ]
     },
     "execution_count": 88,
     "metadata": {},
     "output_type": "execute_result"
    }
   ],
   "source": [
    "energy_combined['City'].unique()\n"
   ]
  },
  {
   "cell_type": "code",
   "execution_count": 89,
   "id": "d843389b",
   "metadata": {},
   "outputs": [],
   "source": [
    "combined_df.to_parquet(r'C:\\Users\\dmarc\\Desktop\\Energy_project\\data\\processed\\energy_combined_C.parquet', index=False)"
   ]
  },
  {
   "cell_type": "code",
   "execution_count": null,
   "id": "565b970d",
   "metadata": {},
   "outputs": [],
   "source": []
  },
  {
   "cell_type": "code",
   "execution_count": null,
   "id": "6c384248",
   "metadata": {},
   "outputs": [],
   "source": []
  }
 ],
 "metadata": {
  "kernelspec": {
   "display_name": ".venv",
   "language": "python",
   "name": "python3"
  },
  "language_info": {
   "codemirror_mode": {
    "name": "ipython",
    "version": 3
   },
   "file_extension": ".py",
   "mimetype": "text/x-python",
   "name": "python",
   "nbconvert_exporter": "python",
   "pygments_lexer": "ipython3",
   "version": "3.13.3"
  }
 },
 "nbformat": 4,
 "nbformat_minor": 5
}
